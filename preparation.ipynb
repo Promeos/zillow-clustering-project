{
 "cells": [
  {
   "cell_type": "markdown",
   "metadata": {},
   "source": [
    "<img src=\"https://prnewswire2-a.akamaihd.net/p/1893751/sp/189375100/thumbnail/entry_id/1_su9da4fu/def_height/1001/def_width/1911/version/100011/type/2/q/100\"  width=\"300\" height=\"200\">\n",
    "\n",
    "# Data Preparation\n",
    "\n",
    "Let's create a road map to guide us through preparation.\n",
    "1. Handle missing values\n",
    "1. Cast data types\n",
    "1. Rename columns\n",
    "1. Visualize distributions of features"
   ]
  },
  {
   "cell_type": "code",
   "execution_count": 1,
   "metadata": {},
   "outputs": [],
   "source": [
    "# Import libraries for cleaning data\n",
    "import pandas as pd\n",
    "import numpy as np\n",
    "import matplotlib.pyplot as plt\n",
    "import seaborn as sns\n",
    "\n",
    "# import functions to acquire data and visualize missing values.\n",
    "from acquire import get_zillow_data\n",
    "from prepare import handle_missing_values, missing_values_summary\n",
    "\n",
    "import warnings\n",
    "warnings.filterwarnings('ignore')\n",
    "\n",
    "pd.set_option('display.max_rows', None)"
   ]
  },
  {
   "cell_type": "code",
   "execution_count": 2,
   "metadata": {},
   "outputs": [],
   "source": [
    "# Let's use the function we created in acquisition to acquire the data.\n",
    "# assign the data to a dataframe\n",
    "df = get_zillow_data()"
   ]
  },
  {
   "cell_type": "markdown",
   "metadata": {},
   "source": [
    "What's the shape of our data?"
   ]
  },
  {
   "cell_type": "code",
   "execution_count": 3,
   "metadata": {},
   "outputs": [
    {
     "name": "stdout",
     "output_type": "stream",
     "text": [
      "There are 52439 unique properties and 68 features.\n"
     ]
    }
   ],
   "source": [
    "print(f\"There are {df.shape[0]} unique properties and {df.shape[1]} features.\")"
   ]
  },
  {
   "cell_type": "markdown",
   "metadata": {},
   "source": [
    "| Feature | Description |\n",
    "| :------ | :---------- |\n",
    "| `airconditioningtypeid` | Type of cooling system present in the home (if any) |\n",
    "| `architecturalstyletypeid` | Architectural style of the home (i.e. ranch,  colonial, split-level, etc…) |\n",
    "| `basementsqft` | Finished living area below or partially below ground level |\n",
    "| `bathroomcnt` | Number of bathrooms in home including fractional bathrooms |\n",
    "| `bedroomcnt` | Number of bedrooms in home  |\n",
    "| `buildingqualitytypeid` | Overall assessment of condition of the building  |from best (lowest) to worst (highest)\n",
    "| `buildingclasstypeid` | The building framing type (steel frame, wood frame,   concrete/brick) |\n",
    "| `calculatedbathnbr` | Number of bathrooms in home including fractional  |bathroom\n",
    "| `decktypeid` | Type of deck (if any) present on parcel |\n",
    "| `threequarterbathnbr` | Number of 3/4 bathrooms in house (shower + sink +  toilet) |\n",
    "| `finishedfloor1squarefeet` | Size of the finished living area on the first  (entry) floor of the home\n",
    "| `calculatedfinishedsquarefeet` | Calculated total finished living area of the home | \n",
    "| `finishedsquarefeet6` | Base unfinished and finished area |\n",
    "| `finishedsquarefeet12` | Finished living area |\n",
    "| `finishedsquarefeet13` | Perimeter  living area |\n",
    "| `finishedsquarefeet15` | Total area |\n",
    "| `finishedsquarefeet50` |  Size of the finished living area on the first  (entry) floor of the home |\n",
    "| `fips` | Federal Information Processing Standard code -  see https://en.wikipedia.org/wiki/FIPS_county_code for more details |\n",
    "| `fireplacecnt` | Number of fireplaces in a home (if any) |\n",
    "| `fireplaceflag` | Is a fireplace present in this home |\n",
    "| `fullbathcnt` | Number of full bathrooms (sink, shower + bathtub, and toilet) present in home|\n",
    "| `garagecarcnt` | Total number of garages on the lot including an attached garage |\n",
    "| `garagetotalsqft` | Total number of square feet of all garages on lot including an attached garage |\n",
    "`hashottuborspa` | Does the home have a hot tub or spa\n",
    "`heatingorsystemtypeid` | Type of home heating system\n",
    "`latitude` | Latitude of the middle of the parcel multiplied by 10e6\n",
    "`longitude` | Longitude of the middle of the parcel multiplied by 10e6\n",
    "`lotsizesquarefeet` | Area of the lot in square feet\n",
    "`numberofstories` | Number of stories or levels the home has\n",
    "`parcelid` | Unique identifier for parcels (lots) \n",
    "`poolcnt` | Number of pools on the lot (if any)\n",
    "`poolsizesum` | Total square footage of all pools on property\n",
    "`pooltypeid10` | Spa or Hot Tub\n",
    "`pooltypeid2` | Pool with Spa/Hot Tub\n",
    "`pooltypeid7` | Pool without hot tub\n",
    "`propertycountylandusecode` | County land use code i.e. it's zoning at the county level |\n",
    "| `propertylandusetypeid` | Type of land use the property is zoned for\n",
    "| `propertyzoningdesc` | Description of the allowed land uses (zoning) for that property\n",
    "| `rawcensustractandblock` | Census tract and block ID combined - also contains blockgroup assignment by extension\n",
    "| `censustractandblock` | Census tract and block ID combined - also contains blockgroup assignment by extension\n",
    "| `regionidcounty` |County in which the property is located\n",
    "| `regionidcity` | City in which the property is located (if any)\n",
    "| `regionidzip` | Zip code in which the property is located\n",
    "| `regionidneighborhood` |Neighborhood in which the property is located\n",
    "| `roomcnt` | Total number of rooms in the principal residence\n",
    "| `storytypeid` | Type of floors in a multi-story house (i.e. basement and main level, split-level, attic, etc.).  See tab for details.\"\n",
    "| `typeconstructiontypeid` | What type of construction material was used to construct the home\n",
    "| `unitcnt` | Number of units the structure is built into (i.e. 2 = duplex, 3 = triplex, etc...)\n",
    "| `yardbuildingsqft17` |Patio in  yard\n",
    "| `yardbuildingsqft26` |Storage shed/building in yard\n",
    "| `yearbuilt` | The Year the principal residence was built \n",
    "| `taxvaluedollarcnt` |The total tax assessed value of the parcel\n",
    "| `structuretaxvaluedollarcnt` |The assessed value of the built structure on the parcel\n",
    "| `landtaxvaluedollarcnt` |The assessed value of the land area of the parcel\n",
    "| `taxamount` |The total property tax assessed for that assessment year\n",
    "| `assessmentyear` |The year of the property tax assessment \n",
    "| `taxdelinquencyflag` |Property taxes for this parcel are past due as of 2015\n",
    "| `taxdelinquencyyear` |Year for which the unpaid propert taxes were due \n"
   ]
  },
  {
   "cell_type": "markdown",
   "metadata": {},
   "source": [
    "# Handle Missing Values\n",
    "1. Missing Values Summary\n",
    "2. Drop columns with 100% of values missing\n",
    "3. Salvage columns with 80-99.99% of values missing\n",
    "> Repeat until all columns that have a missing value have been dropped or salvaged.\n",
    "\n",
    "Let's look at the features of our dataset."
   ]
  },
  {
   "cell_type": "code",
   "execution_count": 4,
   "metadata": {},
   "outputs": [
    {
     "data": {
      "text/html": [
       "<div>\n",
       "<style scoped>\n",
       "    .dataframe tbody tr th:only-of-type {\n",
       "        vertical-align: middle;\n",
       "    }\n",
       "\n",
       "    .dataframe tbody tr th {\n",
       "        vertical-align: top;\n",
       "    }\n",
       "\n",
       "    .dataframe thead th {\n",
       "        text-align: right;\n",
       "    }\n",
       "</style>\n",
       "<table border=\"1\" class=\"dataframe\">\n",
       "  <thead>\n",
       "    <tr style=\"text-align: right;\">\n",
       "      <th></th>\n",
       "      <th>typeconstructiontypeid</th>\n",
       "      <th>storytypeid</th>\n",
       "      <th>propertylandusetypeid</th>\n",
       "      <th>heatingorsystemtypeid</th>\n",
       "      <th>buildingclasstypeid</th>\n",
       "      <th>architecturalstyletypeid</th>\n",
       "      <th>airconditioningtypeid</th>\n",
       "      <th>parcelid</th>\n",
       "      <th>id</th>\n",
       "      <th>basementsqft</th>\n",
       "      <th>...</th>\n",
       "      <th>censustractandblock</th>\n",
       "      <th>logerror</th>\n",
       "      <th>lasttransactiondate</th>\n",
       "      <th>airconditioningdesc</th>\n",
       "      <th>architecturalstyledesc</th>\n",
       "      <th>buildingclassdesc</th>\n",
       "      <th>heatingorsystemdesc</th>\n",
       "      <th>propertylandusedesc</th>\n",
       "      <th>storydesc</th>\n",
       "      <th>typeconstructiondesc</th>\n",
       "    </tr>\n",
       "  </thead>\n",
       "  <tbody>\n",
       "    <tr>\n",
       "      <th>0</th>\n",
       "      <td>NaN</td>\n",
       "      <td>NaN</td>\n",
       "      <td>261.0</td>\n",
       "      <td>2.0</td>\n",
       "      <td>NaN</td>\n",
       "      <td>NaN</td>\n",
       "      <td>NaN</td>\n",
       "      <td>10711855</td>\n",
       "      <td>1087254</td>\n",
       "      <td>NaN</td>\n",
       "      <td>...</td>\n",
       "      <td>6.037113e+13</td>\n",
       "      <td>-0.007357</td>\n",
       "      <td>2017-07-07</td>\n",
       "      <td>NaN</td>\n",
       "      <td>NaN</td>\n",
       "      <td>NaN</td>\n",
       "      <td>Central</td>\n",
       "      <td>Single Family Residential</td>\n",
       "      <td>NaN</td>\n",
       "      <td>NaN</td>\n",
       "    </tr>\n",
       "    <tr>\n",
       "      <th>1</th>\n",
       "      <td>NaN</td>\n",
       "      <td>NaN</td>\n",
       "      <td>261.0</td>\n",
       "      <td>2.0</td>\n",
       "      <td>NaN</td>\n",
       "      <td>NaN</td>\n",
       "      <td>1.0</td>\n",
       "      <td>10711877</td>\n",
       "      <td>1072280</td>\n",
       "      <td>NaN</td>\n",
       "      <td>...</td>\n",
       "      <td>6.037113e+13</td>\n",
       "      <td>0.021066</td>\n",
       "      <td>2017-08-29</td>\n",
       "      <td>Central</td>\n",
       "      <td>NaN</td>\n",
       "      <td>NaN</td>\n",
       "      <td>Central</td>\n",
       "      <td>Single Family Residential</td>\n",
       "      <td>NaN</td>\n",
       "      <td>NaN</td>\n",
       "    </tr>\n",
       "    <tr>\n",
       "      <th>2</th>\n",
       "      <td>NaN</td>\n",
       "      <td>NaN</td>\n",
       "      <td>261.0</td>\n",
       "      <td>2.0</td>\n",
       "      <td>NaN</td>\n",
       "      <td>NaN</td>\n",
       "      <td>1.0</td>\n",
       "      <td>10711888</td>\n",
       "      <td>1340933</td>\n",
       "      <td>NaN</td>\n",
       "      <td>...</td>\n",
       "      <td>6.037113e+13</td>\n",
       "      <td>0.077174</td>\n",
       "      <td>2017-04-04</td>\n",
       "      <td>Central</td>\n",
       "      <td>NaN</td>\n",
       "      <td>NaN</td>\n",
       "      <td>Central</td>\n",
       "      <td>Single Family Residential</td>\n",
       "      <td>NaN</td>\n",
       "      <td>NaN</td>\n",
       "    </tr>\n",
       "    <tr>\n",
       "      <th>3</th>\n",
       "      <td>NaN</td>\n",
       "      <td>NaN</td>\n",
       "      <td>261.0</td>\n",
       "      <td>2.0</td>\n",
       "      <td>NaN</td>\n",
       "      <td>NaN</td>\n",
       "      <td>NaN</td>\n",
       "      <td>10711910</td>\n",
       "      <td>1878109</td>\n",
       "      <td>NaN</td>\n",
       "      <td>...</td>\n",
       "      <td>6.037113e+13</td>\n",
       "      <td>-0.041238</td>\n",
       "      <td>2017-03-17</td>\n",
       "      <td>NaN</td>\n",
       "      <td>NaN</td>\n",
       "      <td>NaN</td>\n",
       "      <td>Central</td>\n",
       "      <td>Single Family Residential</td>\n",
       "      <td>NaN</td>\n",
       "      <td>NaN</td>\n",
       "    </tr>\n",
       "    <tr>\n",
       "      <th>4</th>\n",
       "      <td>NaN</td>\n",
       "      <td>NaN</td>\n",
       "      <td>261.0</td>\n",
       "      <td>2.0</td>\n",
       "      <td>NaN</td>\n",
       "      <td>NaN</td>\n",
       "      <td>NaN</td>\n",
       "      <td>10711923</td>\n",
       "      <td>2190858</td>\n",
       "      <td>NaN</td>\n",
       "      <td>...</td>\n",
       "      <td>6.037113e+13</td>\n",
       "      <td>-0.009496</td>\n",
       "      <td>2017-03-24</td>\n",
       "      <td>NaN</td>\n",
       "      <td>NaN</td>\n",
       "      <td>NaN</td>\n",
       "      <td>Central</td>\n",
       "      <td>Single Family Residential</td>\n",
       "      <td>NaN</td>\n",
       "      <td>NaN</td>\n",
       "    </tr>\n",
       "  </tbody>\n",
       "</table>\n",
       "<p>5 rows × 68 columns</p>\n",
       "</div>"
      ],
      "text/plain": [
       "   typeconstructiontypeid  storytypeid  propertylandusetypeid  \\\n",
       "0                     NaN          NaN                  261.0   \n",
       "1                     NaN          NaN                  261.0   \n",
       "2                     NaN          NaN                  261.0   \n",
       "3                     NaN          NaN                  261.0   \n",
       "4                     NaN          NaN                  261.0   \n",
       "\n",
       "   heatingorsystemtypeid  buildingclasstypeid  architecturalstyletypeid  \\\n",
       "0                    2.0                  NaN                       NaN   \n",
       "1                    2.0                  NaN                       NaN   \n",
       "2                    2.0                  NaN                       NaN   \n",
       "3                    2.0                  NaN                       NaN   \n",
       "4                    2.0                  NaN                       NaN   \n",
       "\n",
       "   airconditioningtypeid  parcelid       id  basementsqft  ...  \\\n",
       "0                    NaN  10711855  1087254           NaN  ...   \n",
       "1                    1.0  10711877  1072280           NaN  ...   \n",
       "2                    1.0  10711888  1340933           NaN  ...   \n",
       "3                    NaN  10711910  1878109           NaN  ...   \n",
       "4                    NaN  10711923  2190858           NaN  ...   \n",
       "\n",
       "   censustractandblock  logerror  lasttransactiondate  airconditioningdesc  \\\n",
       "0         6.037113e+13 -0.007357           2017-07-07                  NaN   \n",
       "1         6.037113e+13  0.021066           2017-08-29              Central   \n",
       "2         6.037113e+13  0.077174           2017-04-04              Central   \n",
       "3         6.037113e+13 -0.041238           2017-03-17                  NaN   \n",
       "4         6.037113e+13 -0.009496           2017-03-24                  NaN   \n",
       "\n",
       "   architecturalstyledesc  buildingclassdesc  heatingorsystemdesc  \\\n",
       "0                     NaN                NaN              Central   \n",
       "1                     NaN                NaN              Central   \n",
       "2                     NaN                NaN              Central   \n",
       "3                     NaN                NaN              Central   \n",
       "4                     NaN                NaN              Central   \n",
       "\n",
       "         propertylandusedesc  storydesc  typeconstructiondesc  \n",
       "0  Single Family Residential        NaN                   NaN  \n",
       "1  Single Family Residential        NaN                   NaN  \n",
       "2  Single Family Residential        NaN                   NaN  \n",
       "3  Single Family Residential        NaN                   NaN  \n",
       "4  Single Family Residential        NaN                   NaN  \n",
       "\n",
       "[5 rows x 68 columns]"
      ]
     },
     "execution_count": 4,
     "metadata": {},
     "output_type": "execute_result"
    }
   ],
   "source": [
    "df.head()"
   ]
  },
  {
   "cell_type": "markdown",
   "metadata": {},
   "source": [
    "## Missing Values Summary"
   ]
  },
  {
   "cell_type": "code",
   "execution_count": 5,
   "metadata": {},
   "outputs": [],
   "source": [
    "# Use a function to calculate missing value stats.\n",
    "df_missing = missing_values_summary(df)"
   ]
  },
  {
   "cell_type": "code",
   "execution_count": 6,
   "metadata": {},
   "outputs": [],
   "source": [
    "missing_summary = (\n",
    "    df_missing\n",
    "    .sort_values(by=['num_rows_missing']\n",
    "                 ,ascending=False)\n",
    "                  )"
   ]
  },
  {
   "cell_type": "code",
   "execution_count": 7,
   "metadata": {
    "scrolled": false
   },
   "outputs": [
    {
     "data": {
      "image/png": "[encoded data removed]",
      "text/plain": [
       "<Figure size 504x1440 with 1 Axes>"
      ]
     },
     "metadata": {},
     "output_type": "display_data"
    }
   ],
   "source": [
    "# Visualize the missing data.\n",
    "sns.set_theme(style=\"whitegrid\")\n",
    "plt.figure(figsize=(7, 20))\n",
    "\n",
    "sns.barplot(\n",
    "    \n",
    "    y='attribute',\n",
    "    x='pct_rows_missing',\n",
    "    data=missing_summary,\n",
    "    orient='h',\n",
    "    color='Royalblue',\n",
    ")\n",
    "\n",
    "plt.title(\"What's the percentage of missing values in each column?\")\n",
    "plt.xlabel('% of column missing')\n",
    "plt.ylabel('column name')\n",
    "\n",
    "plt.xticks(\n",
    "    \n",
    "    ticks=np.linspace(0, 1, 6),\n",
    "    labels=['0%', '20%', '40%', '60%', '80%', '100%']\n",
    ")\n",
    "\n",
    "plt.xlim(0, 1)\n",
    "plt.show()"
   ]
  },
  {
   "cell_type": "markdown",
   "metadata": {},
   "source": [
    "More than half of our columns are missing a data point. Let's drop the columns that are missing between 80 and 100% of their values.\n",
    "\n",
    "<img src=\"imputing_nans.jpg\" width=\"300\" height=\"300\">"
   ]
  },
  {
   "cell_type": "markdown",
   "metadata": {},
   "source": [
    "# Columns with 100% of Values Missing"
   ]
  },
  {
   "cell_type": "code",
   "execution_count": 8,
   "metadata": {},
   "outputs": [],
   "source": [
    "# Let's start with 100% missing columns\n",
    "\n",
    "features_100pct_missing = list(\n",
    "    \n",
    "    df_missing[df_missing.pct_rows_missing == 1] \\\n",
    "    .attribute.values\n",
    ")\n",
    "\n",
    "missing_summary = missing_summary[missing_summary.pct_rows_missing != 1]"
   ]
  },
  {
   "cell_type": "code",
   "execution_count": 9,
   "metadata": {},
   "outputs": [
    {
     "data": {
      "text/plain": [
       "['buildingclasstypeid',\n",
       " 'finishedsquarefeet13',\n",
       " 'finishedsquarefeet15',\n",
       " 'buildingclassdesc']"
      ]
     },
     "execution_count": 9,
     "metadata": {},
     "output_type": "execute_result"
    }
   ],
   "source": [
    "features_100pct_missing"
   ]
  },
  {
   "cell_type": "code",
   "execution_count": 10,
   "metadata": {},
   "outputs": [],
   "source": [
    "# drop columns from our original dataframe\n",
    "df.drop(columns=features_100pct_missing, inplace=True)"
   ]
  },
  {
   "cell_type": "markdown",
   "metadata": {},
   "source": [
    "# Columns with 80-99.99% of Values Missing\n",
    "\n",
    "Before we drop columns with greater than 80% of values let's take a look at their values to see if we can salvageable."
   ]
  },
  {
   "cell_type": "code",
   "execution_count": 11,
   "metadata": {},
   "outputs": [
    {
     "data": {
      "text/html": [
       "<div>\n",
       "<style scoped>\n",
       "    .dataframe tbody tr th:only-of-type {\n",
       "        vertical-align: middle;\n",
       "    }\n",
       "\n",
       "    .dataframe tbody tr th {\n",
       "        vertical-align: top;\n",
       "    }\n",
       "\n",
       "    .dataframe thead th {\n",
       "        text-align: right;\n",
       "    }\n",
       "</style>\n",
       "<table border=\"1\" class=\"dataframe\">\n",
       "  <thead>\n",
       "    <tr style=\"text-align: right;\">\n",
       "      <th></th>\n",
       "      <th>attribute</th>\n",
       "      <th>num_rows_missing</th>\n",
       "      <th>pct_rows_missing</th>\n",
       "    </tr>\n",
       "  </thead>\n",
       "  <tbody>\n",
       "    <tr>\n",
       "      <th>0</th>\n",
       "      <td>typeconstructiontypeid</td>\n",
       "      <td>52363</td>\n",
       "      <td>0.998551</td>\n",
       "    </tr>\n",
       "    <tr>\n",
       "      <th>1</th>\n",
       "      <td>storytypeid</td>\n",
       "      <td>52392</td>\n",
       "      <td>0.999104</td>\n",
       "    </tr>\n",
       "    <tr>\n",
       "      <th>4</th>\n",
       "      <td>buildingclasstypeid</td>\n",
       "      <td>52439</td>\n",
       "      <td>1.000000</td>\n",
       "    </tr>\n",
       "    <tr>\n",
       "      <th>5</th>\n",
       "      <td>architecturalstyletypeid</td>\n",
       "      <td>52369</td>\n",
       "      <td>0.998665</td>\n",
       "    </tr>\n",
       "    <tr>\n",
       "      <th>9</th>\n",
       "      <td>basementsqft</td>\n",
       "      <td>52392</td>\n",
       "      <td>0.999104</td>\n",
       "    </tr>\n",
       "    <tr>\n",
       "      <th>14</th>\n",
       "      <td>decktypeid</td>\n",
       "      <td>52050</td>\n",
       "      <td>0.992582</td>\n",
       "    </tr>\n",
       "    <tr>\n",
       "      <th>15</th>\n",
       "      <td>finishedfloor1squarefeet</td>\n",
       "      <td>48060</td>\n",
       "      <td>0.916493</td>\n",
       "    </tr>\n",
       "    <tr>\n",
       "      <th>18</th>\n",
       "      <td>finishedsquarefeet13</td>\n",
       "      <td>52439</td>\n",
       "      <td>1.000000</td>\n",
       "    </tr>\n",
       "    <tr>\n",
       "      <th>19</th>\n",
       "      <td>finishedsquarefeet15</td>\n",
       "      <td>52439</td>\n",
       "      <td>1.000000</td>\n",
       "    </tr>\n",
       "    <tr>\n",
       "      <th>20</th>\n",
       "      <td>finishedsquarefeet50</td>\n",
       "      <td>48060</td>\n",
       "      <td>0.916493</td>\n",
       "    </tr>\n",
       "    <tr>\n",
       "      <th>21</th>\n",
       "      <td>finishedsquarefeet6</td>\n",
       "      <td>52274</td>\n",
       "      <td>0.996853</td>\n",
       "    </tr>\n",
       "    <tr>\n",
       "      <th>27</th>\n",
       "      <td>hashottuborspa</td>\n",
       "      <td>50924</td>\n",
       "      <td>0.971109</td>\n",
       "    </tr>\n",
       "    <tr>\n",
       "      <th>32</th>\n",
       "      <td>poolsizesum</td>\n",
       "      <td>51572</td>\n",
       "      <td>0.983467</td>\n",
       "    </tr>\n",
       "    <tr>\n",
       "      <th>33</th>\n",
       "      <td>pooltypeid10</td>\n",
       "      <td>51995</td>\n",
       "      <td>0.991533</td>\n",
       "    </tr>\n",
       "    <tr>\n",
       "      <th>34</th>\n",
       "      <td>pooltypeid2</td>\n",
       "      <td>51368</td>\n",
       "      <td>0.979576</td>\n",
       "    </tr>\n",
       "    <tr>\n",
       "      <th>46</th>\n",
       "      <td>yardbuildingsqft17</td>\n",
       "      <td>50502</td>\n",
       "      <td>0.963062</td>\n",
       "    </tr>\n",
       "    <tr>\n",
       "      <th>47</th>\n",
       "      <td>yardbuildingsqft26</td>\n",
       "      <td>52376</td>\n",
       "      <td>0.998799</td>\n",
       "    </tr>\n",
       "    <tr>\n",
       "      <th>50</th>\n",
       "      <td>fireplaceflag</td>\n",
       "      <td>52358</td>\n",
       "      <td>0.998455</td>\n",
       "    </tr>\n",
       "    <tr>\n",
       "      <th>56</th>\n",
       "      <td>taxdelinquencyflag</td>\n",
       "      <td>50360</td>\n",
       "      <td>0.960354</td>\n",
       "    </tr>\n",
       "    <tr>\n",
       "      <th>57</th>\n",
       "      <td>taxdelinquencyyear</td>\n",
       "      <td>50360</td>\n",
       "      <td>0.960354</td>\n",
       "    </tr>\n",
       "    <tr>\n",
       "      <th>62</th>\n",
       "      <td>architecturalstyledesc</td>\n",
       "      <td>52369</td>\n",
       "      <td>0.998665</td>\n",
       "    </tr>\n",
       "    <tr>\n",
       "      <th>63</th>\n",
       "      <td>buildingclassdesc</td>\n",
       "      <td>52439</td>\n",
       "      <td>1.000000</td>\n",
       "    </tr>\n",
       "    <tr>\n",
       "      <th>66</th>\n",
       "      <td>storydesc</td>\n",
       "      <td>52392</td>\n",
       "      <td>0.999104</td>\n",
       "    </tr>\n",
       "    <tr>\n",
       "      <th>67</th>\n",
       "      <td>typeconstructiondesc</td>\n",
       "      <td>52363</td>\n",
       "      <td>0.998551</td>\n",
       "    </tr>\n",
       "  </tbody>\n",
       "</table>\n",
       "</div>"
      ],
      "text/plain": [
       "                   attribute  num_rows_missing  pct_rows_missing\n",
       "0     typeconstructiontypeid             52363          0.998551\n",
       "1                storytypeid             52392          0.999104\n",
       "4        buildingclasstypeid             52439          1.000000\n",
       "5   architecturalstyletypeid             52369          0.998665\n",
       "9               basementsqft             52392          0.999104\n",
       "14                decktypeid             52050          0.992582\n",
       "15  finishedfloor1squarefeet             48060          0.916493\n",
       "18      finishedsquarefeet13             52439          1.000000\n",
       "19      finishedsquarefeet15             52439          1.000000\n",
       "20      finishedsquarefeet50             48060          0.916493\n",
       "21       finishedsquarefeet6             52274          0.996853\n",
       "27            hashottuborspa             50924          0.971109\n",
       "32               poolsizesum             51572          0.983467\n",
       "33              pooltypeid10             51995          0.991533\n",
       "34               pooltypeid2             51368          0.979576\n",
       "46        yardbuildingsqft17             50502          0.963062\n",
       "47        yardbuildingsqft26             52376          0.998799\n",
       "50             fireplaceflag             52358          0.998455\n",
       "56        taxdelinquencyflag             50360          0.960354\n",
       "57        taxdelinquencyyear             50360          0.960354\n",
       "62    architecturalstyledesc             52369          0.998665\n",
       "63         buildingclassdesc             52439          1.000000\n",
       "66                 storydesc             52392          0.999104\n",
       "67      typeconstructiondesc             52363          0.998551"
      ]
     },
     "execution_count": 11,
     "metadata": {},
     "output_type": "execute_result"
    }
   ],
   "source": [
    "# start with > 90% missing values first\n",
    "df_missing[df_missing.pct_rows_missing > .9]"
   ]
  },
  {
   "cell_type": "markdown",
   "metadata": {},
   "source": [
    "## Salvage features\n",
    "\n",
    "- Matching {typeid: typedesc} columns\n",
    "- Pool columns (including `has hot tub or spa`)\n",
    "- Columns measured in square feet\n",
    "- Fire place\n",
    "- Tax delinquincy columns\n",
    "\n",
    "\n",
    "### Matching {typeid: typedesc} columns\n",
    "1. `typeconstructiontypeid` : `typeconstructiondesc`\n",
    "2. `storytypeid` : `storydesc`\n",
    "3. `architecturalstyletypeid` : `architecturalstyledesc`"
   ]
  },
  {
   "cell_type": "code",
   "execution_count": 12,
   "metadata": {},
   "outputs": [
    {
     "data": {
      "text/html": [
       "<div>\n",
       "<style scoped>\n",
       "    .dataframe tbody tr th:only-of-type {\n",
       "        vertical-align: middle;\n",
       "    }\n",
       "\n",
       "    .dataframe tbody tr th {\n",
       "        vertical-align: top;\n",
       "    }\n",
       "\n",
       "    .dataframe thead th {\n",
       "        text-align: right;\n",
       "    }\n",
       "</style>\n",
       "<table border=\"1\" class=\"dataframe\">\n",
       "  <thead>\n",
       "    <tr style=\"text-align: right;\">\n",
       "      <th>typeconstructiondesc</th>\n",
       "      <th>Concrete</th>\n",
       "      <th>Frame</th>\n",
       "    </tr>\n",
       "    <tr>\n",
       "      <th>typeconstructiontypeid</th>\n",
       "      <th></th>\n",
       "      <th></th>\n",
       "    </tr>\n",
       "  </thead>\n",
       "  <tbody>\n",
       "    <tr>\n",
       "      <th>4.0</th>\n",
       "      <td>1</td>\n",
       "      <td>0</td>\n",
       "    </tr>\n",
       "    <tr>\n",
       "      <th>6.0</th>\n",
       "      <td>0</td>\n",
       "      <td>75</td>\n",
       "    </tr>\n",
       "  </tbody>\n",
       "</table>\n",
       "</div>"
      ],
      "text/plain": [
       "typeconstructiondesc    Concrete  Frame\n",
       "typeconstructiontypeid                 \n",
       "4.0                            1      0\n",
       "6.0                            0     75"
      ]
     },
     "execution_count": 12,
     "metadata": {},
     "output_type": "execute_result"
    }
   ],
   "source": [
    "# drop this column\n",
    "pd.crosstab(df.typeconstructiontypeid,\n",
    "            df.typeconstructiondesc)"
   ]
  },
  {
   "cell_type": "markdown",
   "metadata": {},
   "source": [
    "The story type represents how many levels/floors a property has, whether it has an attic, a basement, ect. 'Basement' is the only value in `storydesc`, let's rename it `has_basement` with values 0/1.<br>Where 0 == no basement, 1 == basement"
   ]
  },
  {
   "cell_type": "code",
   "execution_count": 13,
   "metadata": {},
   "outputs": [
    {
     "data": {
      "text/html": [
       "<div>\n",
       "<style scoped>\n",
       "    .dataframe tbody tr th:only-of-type {\n",
       "        vertical-align: middle;\n",
       "    }\n",
       "\n",
       "    .dataframe tbody tr th {\n",
       "        vertical-align: top;\n",
       "    }\n",
       "\n",
       "    .dataframe thead th {\n",
       "        text-align: right;\n",
       "    }\n",
       "</style>\n",
       "<table border=\"1\" class=\"dataframe\">\n",
       "  <thead>\n",
       "    <tr style=\"text-align: right;\">\n",
       "      <th>storydesc</th>\n",
       "      <th>Basement</th>\n",
       "    </tr>\n",
       "    <tr>\n",
       "      <th>storytypeid</th>\n",
       "      <th></th>\n",
       "    </tr>\n",
       "  </thead>\n",
       "  <tbody>\n",
       "    <tr>\n",
       "      <th>7.0</th>\n",
       "      <td>47</td>\n",
       "    </tr>\n",
       "  </tbody>\n",
       "</table>\n",
       "</div>"
      ],
      "text/plain": [
       "storydesc    Basement\n",
       "storytypeid          \n",
       "7.0                47"
      ]
     },
     "execution_count": 13,
     "metadata": {},
     "output_type": "execute_result"
    }
   ],
   "source": [
    "# keep these columns\n",
    "pd.crosstab(df.storytypeid,\n",
    "            df.storydesc)"
   ]
  },
  {
   "cell_type": "markdown",
   "metadata": {},
   "source": [
    "Note: If we had an ml algorithm that could utilize google images, we could infer the architectural style for every property. :O or infer the architectural style using clustering! (If we had more values...)"
   ]
  },
  {
   "cell_type": "code",
   "execution_count": 14,
   "metadata": {},
   "outputs": [
    {
     "data": {
      "text/html": [
       "<div>\n",
       "<style scoped>\n",
       "    .dataframe tbody tr th:only-of-type {\n",
       "        vertical-align: middle;\n",
       "    }\n",
       "\n",
       "    .dataframe tbody tr th {\n",
       "        vertical-align: top;\n",
       "    }\n",
       "\n",
       "    .dataframe thead th {\n",
       "        text-align: right;\n",
       "    }\n",
       "</style>\n",
       "<table border=\"1\" class=\"dataframe\">\n",
       "  <thead>\n",
       "    <tr style=\"text-align: right;\">\n",
       "      <th>architecturalstyledesc</th>\n",
       "      <th>Bungalow</th>\n",
       "      <th>Cape Cod</th>\n",
       "      <th>Contemporary</th>\n",
       "      <th>Conventional</th>\n",
       "      <th>Ranch/Rambler</th>\n",
       "    </tr>\n",
       "    <tr>\n",
       "      <th>architecturalstyletypeid</th>\n",
       "      <th></th>\n",
       "      <th></th>\n",
       "      <th></th>\n",
       "      <th></th>\n",
       "      <th></th>\n",
       "    </tr>\n",
       "  </thead>\n",
       "  <tbody>\n",
       "    <tr>\n",
       "      <th>2.0</th>\n",
       "      <td>2</td>\n",
       "      <td>0</td>\n",
       "      <td>0</td>\n",
       "      <td>0</td>\n",
       "      <td>0</td>\n",
       "    </tr>\n",
       "    <tr>\n",
       "      <th>3.0</th>\n",
       "      <td>0</td>\n",
       "      <td>3</td>\n",
       "      <td>0</td>\n",
       "      <td>0</td>\n",
       "      <td>0</td>\n",
       "    </tr>\n",
       "    <tr>\n",
       "      <th>7.0</th>\n",
       "      <td>0</td>\n",
       "      <td>0</td>\n",
       "      <td>62</td>\n",
       "      <td>0</td>\n",
       "      <td>0</td>\n",
       "    </tr>\n",
       "    <tr>\n",
       "      <th>8.0</th>\n",
       "      <td>0</td>\n",
       "      <td>0</td>\n",
       "      <td>0</td>\n",
       "      <td>1</td>\n",
       "      <td>0</td>\n",
       "    </tr>\n",
       "    <tr>\n",
       "      <th>21.0</th>\n",
       "      <td>0</td>\n",
       "      <td>0</td>\n",
       "      <td>0</td>\n",
       "      <td>0</td>\n",
       "      <td>2</td>\n",
       "    </tr>\n",
       "  </tbody>\n",
       "</table>\n",
       "</div>"
      ],
      "text/plain": [
       "architecturalstyledesc    Bungalow  Cape Cod  Contemporary  Conventional  \\\n",
       "architecturalstyletypeid                                                   \n",
       "2.0                              2         0             0             0   \n",
       "3.0                              0         3             0             0   \n",
       "7.0                              0         0            62             0   \n",
       "8.0                              0         0             0             1   \n",
       "21.0                             0         0             0             0   \n",
       "\n",
       "architecturalstyledesc    Ranch/Rambler  \n",
       "architecturalstyletypeid                 \n",
       "2.0                                   0  \n",
       "3.0                                   0  \n",
       "7.0                                   0  \n",
       "8.0                                   0  \n",
       "21.0                                  2  "
      ]
     },
     "execution_count": 14,
     "metadata": {},
     "output_type": "execute_result"
    }
   ],
   "source": [
    "# drop this column\n",
    "# Not enough values to infer the architectural style of a property.\n",
    "pd.crosstab(df.architecturalstyletypeid,\n",
    "            df.architecturalstyledesc)"
   ]
  },
  {
   "cell_type": "markdown",
   "metadata": {},
   "source": [
    "##### Matching {typeid: typedesc} columns Summary\n",
    "Colums to keep:\n",
    "- `storytypeid` and `storydesc`\n",
    "    - Create a new column called `has_basement` where: 0 == no basement, 1 == basement\n",
    "        - Drop both columns after columns after creating the new column.\n",
    "\n",
    "Columns to drop:\n",
    "- `typeconstructiontypeid`\n",
    "- `typeconstructiondesc`\n",
    "- `architecturalstyletypeid`\n",
    "- `architecturalstyle`"
   ]
  },
  {
   "cell_type": "markdown",
   "metadata": {},
   "source": [
    "### Pool columns (including hot tub/spa)\n",
    "\n",
    "The only value in `hashottuborspa` is 1. Let's rename it `has_hottub_or_spa` with values 0/1.<br>\n",
    "Where 0 == no hottub or spa, 1 == hot tub or spa"
   ]
  },
  {
   "cell_type": "code",
   "execution_count": 15,
   "metadata": {},
   "outputs": [
    {
     "data": {
      "text/plain": [
       "1.0    1515\n",
       "Name: hashottuborspa, dtype: int64"
      ]
     },
     "execution_count": 15,
     "metadata": {},
     "output_type": "execute_result"
    }
   ],
   "source": [
    "# keep this column\n",
    "df.hashottuborspa.value_counts()"
   ]
  },
  {
   "cell_type": "markdown",
   "metadata": {},
   "source": [
    "Each pool column has a unique value of 1, one swimming pool. `poolcnt` has the least amount of missing values. Let's salvage it. Rename `poolcnt` as `has_pool`.\n",
    "<br>Where 0 == no pool, 1 == pool"
   ]
  },
  {
   "cell_type": "code",
   "execution_count": 16,
   "metadata": {},
   "outputs": [
    {
     "name": "stdout",
     "output_type": "stream",
     "text": [
      "1.0    11096\n",
      "Name: poolcnt, dtype: int64\n",
      "\n",
      "1.0    1071\n",
      "Name: pooltypeid2, dtype: int64\n",
      "\n",
      "1.0    10009\n",
      "Name: pooltypeid7, dtype: int64\n",
      "\n",
      "1.0    444\n",
      "Name: pooltypeid10, dtype: int64\n"
     ]
    }
   ],
   "source": [
    "# keep this column\n",
    "# The number of pools on a property\n",
    "print(df.poolcnt.value_counts(), end='\\n\\n')\n",
    "\n",
    "# drop these columns\n",
    "# Pool with Spa/Hot Tub\n",
    "print(df.pooltypeid2.value_counts(), end='\\n\\n')\n",
    "\n",
    "# Pool without hot tub\n",
    "print(df.pooltypeid7.value_counts(), end='\\n\\n')\n",
    "\n",
    "# Spa or Hot Tub\n",
    "print(df.pooltypeid10.value_counts(), end='\\n')"
   ]
  },
  {
   "cell_type": "markdown",
   "metadata": {},
   "source": [
    "Of properties that have pools, there are 262 unique pool sizes. Let's rename it as `pool_area`."
   ]
  },
  {
   "cell_type": "code",
   "execution_count": 17,
   "metadata": {
    "scrolled": false
   },
   "outputs": [
    {
     "name": "stdout",
     "output_type": "stream",
     "text": [
      "262\n"
     ]
    }
   ],
   "source": [
    "# Area of all pools on a property in square feet.\n",
    "print(df.poolsizesum.nunique())"
   ]
  },
  {
   "cell_type": "markdown",
   "metadata": {},
   "source": [
    "Let's take a look at the distribution of pool area in square feet."
   ]
  },
  {
   "cell_type": "code",
   "execution_count": 18,
   "metadata": {},
   "outputs": [
    {
     "data": {
      "text/html": [
       "<div>\n",
       "<style scoped>\n",
       "    .dataframe tbody tr th:only-of-type {\n",
       "        vertical-align: middle;\n",
       "    }\n",
       "\n",
       "    .dataframe tbody tr th {\n",
       "        vertical-align: top;\n",
       "    }\n",
       "\n",
       "    .dataframe thead th {\n",
       "        text-align: right;\n",
       "    }\n",
       "</style>\n",
       "<table border=\"1\" class=\"dataframe\">\n",
       "  <thead>\n",
       "    <tr style=\"text-align: right;\">\n",
       "      <th></th>\n",
       "      <th>count</th>\n",
       "      <th>mean</th>\n",
       "      <th>std</th>\n",
       "      <th>min</th>\n",
       "      <th>25%</th>\n",
       "      <th>50%</th>\n",
       "      <th>75%</th>\n",
       "      <th>max</th>\n",
       "    </tr>\n",
       "  </thead>\n",
       "  <tbody>\n",
       "    <tr>\n",
       "      <th>poolsizesum</th>\n",
       "      <td>867.0</td>\n",
       "      <td>518.318339</td>\n",
       "      <td>156.468209</td>\n",
       "      <td>24.0</td>\n",
       "      <td>424.5</td>\n",
       "      <td>500.0</td>\n",
       "      <td>600.0</td>\n",
       "      <td>1500.0</td>\n",
       "    </tr>\n",
       "  </tbody>\n",
       "</table>\n",
       "</div>"
      ],
      "text/plain": [
       "             count        mean         std   min    25%    50%    75%     max\n",
       "poolsizesum  867.0  518.318339  156.468209  24.0  424.5  500.0  600.0  1500.0"
      ]
     },
     "execution_count": 18,
     "metadata": {},
     "output_type": "execute_result"
    }
   ],
   "source": [
    "df[['poolsizesum']].describe().T"
   ]
  },
  {
   "cell_type": "code",
   "execution_count": 19,
   "metadata": {},
   "outputs": [
    {
     "data": {
      "image/png": "[encoded data removed]",
      "text/plain": [
       "<Figure size 936x504 with 1 Axes>"
      ]
     },
     "metadata": {},
     "output_type": "display_data"
    }
   ],
   "source": [
    "plt.figure(figsize=(13, 7))\n",
    "df.poolsizesum.hist()\n",
    "\n",
    "# The only properties with a pool are located in Ventura county\n",
    "# See the Appendix\n",
    "plt.title('Distribution of Pool Sizes in Ventura County')\n",
    "plt.xlabel('pool size (area in sqft)')\n",
    "plt.ylabel('# of occurances')\n",
    "plt.show()"
   ]
  },
  {
   "cell_type": "code",
   "execution_count": 20,
   "metadata": {},
   "outputs": [
    {
     "data": {
      "text/plain": [
       "NaN                 51572\n",
       "(393.0, 762.0]        672\n",
       "(22.524, 393.0]       133\n",
       "(762.0, 1131.0]        59\n",
       "(1131.0, 1500.0]        3\n",
       "Name: poolsizesum, dtype: int64"
      ]
     },
     "execution_count": 20,
     "metadata": {},
     "output_type": "execute_result"
    }
   ],
   "source": [
    "pd.cut(df.poolsizesum, 4).value_counts(dropna=False)"
   ]
  },
  {
   "cell_type": "markdown",
   "metadata": {},
   "source": [
    "##### Pool columns (including hot tub/spa) Summary\n",
    "Colums to keep:\n",
    "> Drop these columns once the new ones are created.\n",
    "- `hashottuborspa`\n",
    "    - Create a new column called `has_hot_or_spa` with the values 0/1.<br>Where: 0 == no hottub or spa, 1 == hot tub or spa\n",
    "- `poolcnt`\n",
    "    - Create a new column called `has_pool`.<br>\n",
    "    Where: 0 == no pool, 1 == pool\n",
    "- `poolsizesum`\n",
    "    - Create a new column called `pool_area`. Fill missing values with 0.\n",
    "    - For those with a pool but no reported area, impute the median.\n",
    "\n",
    "Columns to drop:\n",
    "- `pooltypeid2`\n",
    "- `pooltypeid7`\n",
    "- `pooltypeid10`\n",
    "\n",
    "# Columns measured in Square Feet"
   ]
  },
  {
   "cell_type": "code",
   "execution_count": 21,
   "metadata": {},
   "outputs": [
    {
     "data": {
      "text/plain": [
       "False"
      ]
     },
     "execution_count": 21,
     "metadata": {},
     "output_type": "execute_result"
    }
   ],
   "source": [
    "# duplicate column\n",
    "np.all(df.finishedfloor1squarefeet == df.finishedsquarefeet50)"
   ]
  },
  {
   "cell_type": "code",
   "execution_count": 22,
   "metadata": {
    "scrolled": false
   },
   "outputs": [
    {
     "name": "stdout",
     "output_type": "stream",
     "text": [
      "165\n"
     ]
    }
   ],
   "source": [
    "# Drop column\n",
    "print(df.finishedsquarefeet6.count())"
   ]
  },
  {
   "cell_type": "code",
   "execution_count": 23,
   "metadata": {
    "scrolled": false
   },
   "outputs": [
    {
     "data": {
      "image/png": "[encoded data removed]",
      "text/plain": [
       "<Figure size 936x504 with 1 Axes>"
      ]
     },
     "metadata": {},
     "output_type": "display_data"
    }
   ],
   "source": [
    "# Patio in yard\n",
    "plt.figure(figsize=(13, 7))\n",
    "df.yardbuildingsqft17.hist()\n",
    "plt.show()"
   ]
  },
  {
   "cell_type": "code",
   "execution_count": 24,
   "metadata": {},
   "outputs": [
    {
     "data": {
      "image/png": "[encoded data removed]",
      "text/plain": [
       "<Figure size 936x504 with 1 Axes>"
      ]
     },
     "metadata": {},
     "output_type": "display_data"
    }
   ],
   "source": [
    "# Storage shed/building in yard\n",
    "plt.figure(figsize=(13, 7))\n",
    "df.yardbuildingsqft26.hist()\n",
    "plt.show()"
   ]
  },
  {
   "cell_type": "code",
   "execution_count": 25,
   "metadata": {},
   "outputs": [
    {
     "data": {
      "image/png": "[encoded data removed]",
      "text/plain": [
       "<Figure size 936x504 with 1 Axes>"
      ]
     },
     "metadata": {},
     "output_type": "display_data"
    }
   ],
   "source": [
    "# Basement size in squarefeet\n",
    "plt.figure(figsize=(13, 7))\n",
    "df.basementsqft.hist()\n",
    "plt.show()"
   ]
  },
  {
   "cell_type": "code",
   "execution_count": 26,
   "metadata": {},
   "outputs": [
    {
     "data": {
      "text/plain": [
       "True"
      ]
     },
     "execution_count": 26,
     "metadata": {},
     "output_type": "execute_result"
    }
   ],
   "source": [
    "df.storydesc.count() == df.basementsqft.count()"
   ]
  },
  {
   "cell_type": "code",
   "execution_count": 27,
   "metadata": {},
   "outputs": [],
   "source": [
    "# Let's drop the columns\n",
    "\n",
    "features_80pct_missing = [\n",
    "    'pooltypeid2',\n",
    "    'pooltypeid7',\n",
    "    'pooltypeid10',\n",
    "    \n",
    "    ''\n",
    "]"
   ]
  },
  {
   "cell_type": "code",
   "execution_count": 28,
   "metadata": {
    "scrolled": false
   },
   "outputs": [],
   "source": [
    "missing_summary = missing_summary[~missing_summary.attribute \\\n",
    "                                  .isin(features_80pct_missing)]"
   ]
  },
  {
   "cell_type": "markdown",
   "metadata": {},
   "source": [
    "# Appendix"
   ]
  },
  {
   "cell_type": "markdown",
   "metadata": {},
   "source": [
    "Use this snippet to load the data dictionary in your local environment once you've cloned the repository\n",
    "```python\n",
    "pd.read_csv('data_dictionary.csv')\n",
    "```"
   ]
  },
  {
   "cell_type": "code",
   "execution_count": 29,
   "metadata": {},
   "outputs": [
    {
     "data": {
      "text/plain": [
       "fips    propertycountylandusecode\n",
       "6037.0  0100                         25996\n",
       "        0101                          6080\n",
       "        100                            786\n",
       "        0104                           349\n",
       "        101                            333\n",
       "        010G                            94\n",
       "        0103                            89\n",
       "        0108                            56\n",
       "        010M                            53\n",
       "        104                             20\n",
       "        0109                            18\n",
       "        0110                             6\n",
       "        0113                             6\n",
       "        0141                             4\n",
       "        0102                             3\n",
       "        0105                             3\n",
       "        103                              2\n",
       "        010V                             2\n",
       "        0111                             2\n",
       "        0130                             2\n",
       "        108                              1\n",
       "        010L                             1\n",
       "        0114                             1\n",
       "        0115                             1\n",
       "        0131                             1\n",
       "        0133                             1\n",
       "6059.0  122                          13067\n",
       "        1                             1069\n",
       "6111.0  1111                          3360\n",
       "        1110                          1025\n",
       "        1112                             8\n",
       "Name: propertycountylandusecode, dtype: int64"
      ]
     },
     "execution_count": 29,
     "metadata": {},
     "output_type": "execute_result"
    }
   ],
   "source": [
    "# Iteration #2 Figure out what the codes mean, Mason.\n",
    "df.groupby(by='fips').propertycountylandusecode.value_counts()"
   ]
  },
  {
   "cell_type": "code",
   "execution_count": 30,
   "metadata": {
    "scrolled": false
   },
   "outputs": [
    {
     "data": {
      "text/plain": [
       "fips    poolsizesum\n",
       "6111.0  450.0          89\n",
       "        400.0          38\n",
       "        500.0          30\n",
       "        600.0          27\n",
       "        512.0          25\n",
       "Name: poolsizesum, dtype: int64"
      ]
     },
     "execution_count": 30,
     "metadata": {},
     "output_type": "execute_result"
    }
   ],
   "source": [
    "# Properties in ventura county are the only properties that have pools!\n",
    "# Make sense. Los Angeles citizens have access to the beach :).\n",
    "df.groupby(by='fips').poolsizesum.value_counts().head()"
   ]
  }
 ],
 "metadata": {
  "kernelspec": {
   "display_name": "Python 3",
   "language": "python",
   "name": "python3"
  },
  "language_info": {
   "codemirror_mode": {
    "name": "ipython",
    "version": 3
   },
   "file_extension": ".py",
   "mimetype": "text/x-python",
   "name": "python",
   "nbconvert_exporter": "python",
   "pygments_lexer": "ipython3",
   "version": "3.7.6"
  }
 },
 "nbformat": 4,
 "nbformat_minor": 4
}
