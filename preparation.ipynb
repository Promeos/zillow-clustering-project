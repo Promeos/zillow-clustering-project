{
 "cells": [
  {
   "cell_type": "markdown",
   "metadata": {},
   "source": [
    "<img src=\"https://prnewswire2-a.akamaihd.net/p/1893751/sp/189375100/thumbnail/entry_id/1_su9da4fu/def_height/1001/def_width/1911/version/100011/type/2/q/100\"  width=\"300\" height=\"200\">\n",
    "\n",
    "# Data Preparation"
   ]
  },
  {
   "cell_type": "markdown",
   "metadata": {},
   "source": [
    "import pandas as pd\n",
    "from acquire import get_zillow_data"
   ]
  },
  {
   "cell_type": "code",
   "execution_count": 2,
   "metadata": {},
   "outputs": [
    {
     "name": "stderr",
     "output_type": "stream",
     "text": [
      "/usr/local/anaconda3/lib/python3.7/site-packages/IPython/core/interactiveshell.py:3254: DtypeWarning: Columns (36,37,62,66,67) have mixed types.Specify dtype option on import or set low_memory=False.\n",
      "  if (await self.run_code(code, result,  async_=asy)):\n"
     ]
    }
   ],
   "source": [
    "df = get_zillow_data()"
   ]
  },
  {
   "cell_type": "code",
   "execution_count": 3,
   "metadata": {},
   "outputs": [
    {
     "data": {
      "text/plain": [
       "(52445, 68)"
      ]
     },
     "execution_count": 3,
     "metadata": {},
     "output_type": "execute_result"
    }
   ],
   "source": [
    "df.shape"
   ]
  },
  {
   "cell_type": "code",
   "execution_count": 4,
   "metadata": {},
   "outputs": [
    {
     "name": "stdout",
     "output_type": "stream",
     "text": [
      "<class 'pandas.core.frame.DataFrame'>\n",
      "RangeIndex: 52445 entries, 0 to 52444\n",
      "Data columns (total 68 columns):\n",
      " #   Column                        Non-Null Count  Dtype  \n",
      "---  ------                        --------------  -----  \n",
      " 0   typeconstructiontypeid        76 non-null     float64\n",
      " 1   storytypeid                   47 non-null     float64\n",
      " 2   propertylandusetypeid         52445 non-null  float64\n",
      " 3   heatingorsystemtypeid         33941 non-null  float64\n",
      " 4   buildingclasstypeid           0 non-null      float64\n",
      " 5   architecturalstyletypeid      70 non-null     float64\n",
      " 6   airconditioningtypeid         13644 non-null  float64\n",
      " 7   parcelid                      52445 non-null  int64  \n",
      " 8   id                            52445 non-null  int64  \n",
      " 9   basementsqft                  47 non-null     float64\n",
      " 10  bathroomcnt                   52445 non-null  float64\n",
      " 11  bedroomcnt                    52445 non-null  float64\n",
      " 12  buildingqualitytypeid         33746 non-null  float64\n",
      " 13  calculatedbathnbr             52308 non-null  float64\n",
      " 14  decktypeid                    389 non-null    float64\n",
      " 15  finishedfloor1squarefeet      4379 non-null   float64\n",
      " 16  calculatedfinishedsquarefeet  52363 non-null  float64\n",
      " 17  finishedsquarefeet12          52198 non-null  float64\n",
      " 18  finishedsquarefeet13          0 non-null      float64\n",
      " 19  finishedsquarefeet15          0 non-null      float64\n",
      " 20  finishedsquarefeet50          4379 non-null   float64\n",
      " 21  finishedsquarefeet6           165 non-null    float64\n",
      " 22  fips                          52445 non-null  float64\n",
      " 23  fireplacecnt                  7241 non-null   float64\n",
      " 24  fullbathcnt                   52308 non-null  float64\n",
      " 25  garagecarcnt                  18013 non-null  float64\n",
      " 26  garagetotalsqft               18013 non-null  float64\n",
      " 27  hashottuborspa                1515 non-null   float64\n",
      " 28  latitude                      52445 non-null  float64\n",
      " 29  longitude                     52445 non-null  float64\n",
      " 30  lotsizesquarefeet             52071 non-null  float64\n",
      " 31  poolcnt                       11096 non-null  float64\n",
      " 32  poolsizesum                   867 non-null    float64\n",
      " 33  pooltypeid10                  444 non-null    float64\n",
      " 34  pooltypeid2                   1071 non-null   float64\n",
      " 35  pooltypeid7                   10009 non-null  float64\n",
      " 36  propertycountylandusecode     52445 non-null  object \n",
      " 37  propertyzoningdesc            33854 non-null  object \n",
      " 38  rawcensustractandblock        52445 non-null  float64\n",
      " 39  regionidcity                  51408 non-null  float64\n",
      " 40  regionidcounty                52445 non-null  float64\n",
      " 41  regionidneighborhood          19038 non-null  float64\n",
      " 42  regionidzip                   52419 non-null  float64\n",
      " 43  roomcnt                       52445 non-null  float64\n",
      " 44  threequarterbathnbr           6724 non-null   float64\n",
      " 45  unitcnt                       33853 non-null  float64\n",
      " 46  yardbuildingsqft17            1937 non-null   float64\n",
      " 47  yardbuildingsqft26            63 non-null     float64\n",
      " 48  yearbuilt                     52329 non-null  float64\n",
      " 49  numberofstories               14559 non-null  float64\n",
      " 50  fireplaceflag                 81 non-null     float64\n",
      " 51  structuretaxvaluedollarcnt    52361 non-null  float64\n",
      " 52  taxvaluedollarcnt             52444 non-null  float64\n",
      " 53  assessmentyear                52445 non-null  float64\n",
      " 54  landtaxvaluedollarcnt         52444 non-null  float64\n",
      " 55  taxamount                     52441 non-null  float64\n",
      " 56  taxdelinquencyflag            2080 non-null   object \n",
      " 57  taxdelinquencyyear            2080 non-null   float64\n",
      " 58  censustractandblock           52322 non-null  float64\n",
      " 59  logerror                      52445 non-null  float64\n",
      " 60  lasttransactiondate           52445 non-null  object \n",
      " 61  airconditioningdesc           13644 non-null  object \n",
      " 62  architecturalstyledesc        70 non-null     object \n",
      " 63  buildingclassdesc             0 non-null      float64\n",
      " 64  heatingorsystemdesc           33941 non-null  object \n",
      " 65  propertylandusedesc           52445 non-null  object \n",
      " 66  storydesc                     47 non-null     object \n",
      " 67  typeconstructiondesc          76 non-null     object \n",
      "dtypes: float64(56), int64(2), object(10)\n",
      "memory usage: 27.2+ MB\n"
     ]
    }
   ],
   "source": [
    "df.info()"
   ]
  },
  {
   "cell_type": "code",
   "execution_count": null,
   "metadata": {},
   "outputs": [],
   "source": []
  }
 ],
 "metadata": {
  "kernelspec": {
   "display_name": "Python 3",
   "language": "python",
   "name": "python3"
  },
  "language_info": {
   "codemirror_mode": {
    "name": "ipython",
    "version": 3
   },
   "file_extension": ".py",
   "mimetype": "text/x-python",
   "name": "python",
   "nbconvert_exporter": "python",
   "pygments_lexer": "ipython3",
   "version": "3.7.6"
  }
 },
 "nbformat": 4,
 "nbformat_minor": 4
}
