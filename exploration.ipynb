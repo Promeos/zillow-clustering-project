{
 "cells": [
  {
   "cell_type": "markdown",
   "metadata": {},
   "source": [
    "[zillow-zestimate](https://www.zillow.com/zestimate/)\n",
    "\n",
    "Notes:\n",
    "`The Zestimate® home valuation model is Zillow’s estimate of a home's market value. The Zestimate incorporates public and user-submitted data, taking into account home facts, location and market conditions.`\n",
    "\n",
    "`It is not an appraisal and it should be used as a starting point. We encourage buyers, sellers and homeowners to supplement the Zestimate with other research such as visiting the home, getting a professional appraisal of the home, or requesting a comparative market analysis (CMA) from a real estate agent.`\n",
    "\n",
    "`The amount of data we have for your home and homes in your area directly affects the Zestimate's accuracy. If the data is incorrect or incomplete, update your home facts — this may affect your Zestimate.`    \n",
    "    \n",
    "`The Zestimate was created to give consumers more information about homes and the housing market. It is intended to provide user-friendly data to promote transparent real estate markets and allow people to make more informed decisions — it should not be used to drive up the price of a home. Zestimates are designed to track the market, not drive it.`\n",
    "    \n",
    "`The Zestimate is not an appraisal and can't be used in place of an appraisal. It is a computer-generated estimate of the value of a home today, given the available data.`\n",
    "\n",
    "`Note: The Zestimate's accuracy is computed by comparing the final sale price to the Zestimate that was published on or just prior to the sale date.`\n",
    "\n",
    "`Median Error:\n",
    "    The nationwide median error rate for the Zestimate for on-market homes is 1.9%, while the Zestimate for off-market homes has a median error rate of 7.5%. This means that the Zestimates for half of all on-market homes are within 2% of the selling price, and half are not. For most major markets, the Zestimate for on-market homes is within 10% of the final sale price more than 95% of the time.`"
   ]
  },
  {
   "cell_type": "code",
   "execution_count": 1,
   "metadata": {},
   "outputs": [],
   "source": [
    "import pandas as pd\n",
    "import numpy as np\n",
    "\n",
    "import matplotlib.pyplot as plt\n",
    "import seaborn as sns\n",
    "\n",
    "from prepare import prepare_zillow"
   ]
  },
  {
   "cell_type": "code",
   "execution_count": 2,
   "metadata": {},
   "outputs": [
    {
     "name": "stderr",
     "output_type": "stream",
     "text": [
      "/usr/local/anaconda3/lib/python3.7/site-packages/IPython/core/interactiveshell.py:3331: DtypeWarning: Columns (36,37,62,66,67) have mixed types.Specify dtype option on import or set low_memory=False.\n",
      "  exec(code_obj, self.user_global_ns, self.user_ns)\n"
     ]
    }
   ],
   "source": [
    "df = prepare_zillow()"
   ]
  },
  {
   "cell_type": "code",
   "execution_count": 3,
   "metadata": {},
   "outputs": [
    {
     "data": {
      "text/plain": [
       "(52439, 24)"
      ]
     },
     "execution_count": 3,
     "metadata": {},
     "output_type": "execute_result"
    }
   ],
   "source": [
    "df.shape"
   ]
  },
  {
   "cell_type": "code",
   "execution_count": 4,
   "metadata": {},
   "outputs": [
    {
     "name": "stdout",
     "output_type": "stream",
     "text": [
      "<class 'pandas.core.frame.DataFrame'>\n",
      "Int64Index: 52439 entries, 0 to 52438\n",
      "Data columns (total 24 columns):\n",
      " #   Column                 Non-Null Count  Dtype   \n",
      "---  ------                 --------------  -----   \n",
      " 0   parcelid               52439 non-null  int64   \n",
      " 1   num_of_bedrooms        52439 non-null  category\n",
      " 2   num_of_restrooms       52439 non-null  category\n",
      " 3   living_room_area_sqft  52439 non-null  float64 \n",
      " 4   fips                   52439 non-null  int64   \n",
      " 5   latitude               52439 non-null  float64 \n",
      " 6   longitude              52439 non-null  float64 \n",
      " 7   num_of_rooms           52439 non-null  category\n",
      " 8   year_built             52439 non-null  int64   \n",
      " 9   structure_tax          52439 non-null  float64 \n",
      " 10  taxable_value          52439 non-null  float64 \n",
      " 11  land_tax               52439 non-null  float64 \n",
      " 12  property_tax           52439 non-null  float64 \n",
      " 13  logerror               52439 non-null  float64 \n",
      " 14  date_sold              52439 non-null  object  \n",
      " 15  has_basement           52439 non-null  int64   \n",
      " 16  has_hottub_or_spa      52439 non-null  int64   \n",
      " 17  has_pool               52439 non-null  int64   \n",
      " 18  pool_area_sqft         52439 non-null  float64 \n",
      " 19  has_patio              52439 non-null  int64   \n",
      " 20  patio_area_sqft        52439 non-null  float64 \n",
      " 21  has_shed               52439 non-null  int64   \n",
      " 22  basement_area_sqft     52439 non-null  float64 \n",
      " 23  lot_size_sqft          52439 non-null  float64 \n",
      "dtypes: category(3), float64(12), int64(8), object(1)\n",
      "memory usage: 9.0+ MB\n"
     ]
    }
   ],
   "source": [
    "df.info()"
   ]
  },
  {
   "cell_type": "code",
   "execution_count": null,
   "metadata": {},
   "outputs": [],
   "source": []
  },
  {
   "cell_type": "code",
   "execution_count": null,
   "metadata": {},
   "outputs": [],
   "source": []
  }
 ],
 "metadata": {
  "kernelspec": {
   "display_name": "Python 3",
   "language": "python",
   "name": "python3"
  },
  "language_info": {
   "codemirror_mode": {
    "name": "ipython",
    "version": 3
   },
   "file_extension": ".py",
   "mimetype": "text/x-python",
   "name": "python",
   "nbconvert_exporter": "python",
   "pygments_lexer": "ipython3",
   "version": "3.7.6"
  }
 },
 "nbformat": 4,
 "nbformat_minor": 4
}
