{
 "cells": [
  {
   "cell_type": "markdown",
   "metadata": {},
   "source": [
    "<img src=\"https://prnewswire2-a.akamaihd.net/p/1893751/sp/189375100/thumbnail/entry_id/1_su9da4fu/def_height/1001/def_width/1911/version/100011/type/2/q/100\"  width=\"300\" height=\"200\">\n",
    "\n",
    "# Data Preparation\n",
    "\n",
    "Let's create a road map to guide us through preparation.\n",
    "1. Handle missing values\n",
    "1. Cast data types\n",
    "1. Rename columns\n",
    "1. Visualize distributions of features"
   ]
  },
  {
   "cell_type": "code",
   "execution_count": 1,
   "metadata": {},
   "outputs": [],
   "source": [
    "# Import libraries for cleaning data\n",
    "import pandas as pd\n",
    "import numpy as np\n",
    "import matplotlib.pyplot as plt\n",
    "import seaborn as sns\n",
    "\n",
    "# import functions to acquire data and visualize missing values.\n",
    "import sys\n",
    "sys.path.insert(1, '../src/')\n",
    "\n",
    "from acquire import get_zillow_data\n",
    "from prepare import handle_missing_values, missing_values_summary, prepare_zillow\n",
    "\n",
    "import warnings\n",
    "warnings.filterwarnings('ignore')\n",
    "\n",
    "pd.set_option('display.max_rows', None)"
   ]
  },
  {
   "cell_type": "code",
   "execution_count": 2,
   "metadata": {},
   "outputs": [],
   "source": [
    "# Let's use the function we created in acquisition to acquire the data.\n",
    "# assign the data to a dataframe\n",
    "df = get_zillow_data()"
   ]
  },
  {
   "cell_type": "markdown",
   "metadata": {},
   "source": [
    "What's the shape of our data?"
   ]
  },
  {
   "cell_type": "code",
   "execution_count": null,
   "metadata": {},
   "outputs": [],
   "source": [
    "print(f\"There are {df.shape[0]} properties and {df.shape[1]} features.\")"
   ]
  },
  {
   "cell_type": "code",
   "execution_count": 19,
   "metadata": {
    "scrolled": false
   },
   "outputs": [
    {
     "name": "stdout",
     "output_type": "stream",
     "text": [
      "119\n"
     ]
    }
   ],
   "source": [
    "print(df.parcelid.duplicated().sum())"
   ]
  },
  {
   "cell_type": "code",
   "execution_count": null,
   "metadata": {},
   "outputs": [],
   "source": [
    "df.drop_duplicates()"
   ]
  },
  {
   "cell_type": "markdown",
   "metadata": {},
   "source": [
    "| Feature | Description |\n",
    "| :------ | :---------- |\n",
    "| `airconditioningtypeid` | Type of cooling system present in the home (if any) |\n",
    "| `architecturalstyletypeid` | Architectural style of the home (i.e. ranch,  colonial, split-level, etc…) |\n",
    "| `basementsqft` | Finished living area below or partially below ground level |\n",
    "| `bathroomcnt` | Number of bathrooms in home including fractional bathrooms |\n",
    "| `bedroomcnt` | Number of bedrooms in home  |\n",
    "| `buildingqualitytypeid` | Overall assessment of condition of the building  |from best (lowest) to worst (highest)\n",
    "| `buildingclasstypeid` | The building framing type (steel frame, wood frame,   concrete/brick) |\n",
    "| `calculatedbathnbr` | Number of bathrooms in home including fractional  |bathroom\n",
    "| `decktypeid` | Type of deck (if any) present on parcel |\n",
    "| `threequarterbathnbr` | Number of 3/4 bathrooms in house (shower + sink +  toilet) |\n",
    "| `finishedfloor1squarefeet` | Size of the finished living area on the first  (entry) floor of the home\n",
    "| `calculatedfinishedsquarefeet` | Calculated total finished living area of the home | \n",
    "| `finishedsquarefeet6` | Base unfinished and finished area |\n",
    "| `finishedsquarefeet12` | Finished living area |\n",
    "| `finishedsquarefeet13` | Perimeter  living area |\n",
    "| `finishedsquarefeet15` | Total area |\n",
    "| `finishedsquarefeet50` |  Size of the finished living area on the first  (entry) floor of the home |\n",
    "| `fips` | Federal Information Processing Standard code -  see https://en.wikipedia.org/wiki/FIPS_county_code for more details |\n",
    "| `fireplacecnt` | Number of fireplaces in a home (if any) |\n",
    "| `fireplaceflag` | Is a fireplace present in this home |\n",
    "| `fullbathcnt` | Number of full bathrooms (sink, shower + bathtub, and toilet) present in home|\n",
    "| `garagecarcnt` | Total number of garages on the lot including an attached garage |\n",
    "| `garagetotalsqft` | Total number of square feet of all garages on lot including an attached garage |\n",
    "`hashottuborspa` | Does the home have a hot tub or spa\n",
    "`heatingorsystemtypeid` | Type of home heating system\n",
    "`latitude` | Latitude of the middle of the parcel multiplied by 10e6\n",
    "`longitude` | Longitude of the middle of the parcel multiplied by 10e6\n",
    "`lotsizesquarefeet` | Area of the lot in square feet\n",
    "`numberofstories` | Number of stories or levels the home has\n",
    "`parcelid` | Unique identifier for parcels (lots) \n",
    "`poolcnt` | Number of pools on the lot (if any)\n",
    "`poolsizesum` | Total square footage of all pools on property\n",
    "`pooltypeid10` | Spa or Hot Tub\n",
    "`pooltypeid2` | Pool with Spa/Hot Tub\n",
    "`pooltypeid7` | Pool without hot tub\n",
    "`propertycountylandusecode` | County land use code i.e. it's zoning at the county level |\n",
    "| `propertylandusetypeid` | Type of land use the property is zoned for\n",
    "| `propertyzoningdesc` | Description of the allowed land uses (zoning) for that property\n",
    "| `rawcensustractandblock` | Census tract and block ID combined - also contains blockgroup assignment by extension\n",
    "| `censustractandblock` | Census tract and block ID combined - also contains blockgroup assignment by extension\n",
    "| `regionidcounty` |County in which the property is located\n",
    "| `regionidcity` | City in which the property is located (if any)\n",
    "| `regionidzip` | Zip code in which the property is located\n",
    "| `regionidneighborhood` |Neighborhood in which the property is located\n",
    "| `roomcnt` | Total number of rooms in the principal residence\n",
    "| `storytypeid` | Type of floors in a multi-story house (i.e. basement and main level, split-level, attic, etc.).  See tab for details.\"\n",
    "| `typeconstructiontypeid` | What type of construction material was used to construct the home\n",
    "| `unitcnt` | Number of units the structure is built into (i.e. 2 = duplex, 3 = triplex, etc...)\n",
    "| `yardbuildingsqft17` |Patio in  yard\n",
    "| `yardbuildingsqft26` |Storage shed/building in yard\n",
    "| `yearbuilt` | The Year the principal residence was built \n",
    "| `taxvaluedollarcnt` |The total tax assessed value of the parcel\n",
    "| `structuretaxvaluedollarcnt` |The assessed value of the built structure on the parcel\n",
    "| `landtaxvaluedollarcnt` |The assessed value of the land area of the parcel\n",
    "| `taxamount` |The total property tax assessed for that assessment year\n",
    "| `assessmentyear` |The year of the property tax assessment \n",
    "| `taxdelinquencyflag` |Property taxes for this parcel are past due as of 2015\n",
    "| `taxdelinquencyyear` |Year for which the unpaid propert taxes were due \n"
   ]
  },
  {
   "cell_type": "markdown",
   "metadata": {},
   "source": [
    "# Handle Missing Values\n",
    "1. Missing Values Summary\n",
    "2. Drop columns with 100% of values missing\n",
    "3. Salvage columns with 80-99.99% of values missing\n",
    "> Repeat until all columns that have a missing value have been dropped or salvaged.\n",
    "\n",
    "Let's look at the features of our dataset."
   ]
  },
  {
   "cell_type": "code",
   "execution_count": null,
   "metadata": {},
   "outputs": [],
   "source": [
    "df.head()"
   ]
  },
  {
   "cell_type": "markdown",
   "metadata": {},
   "source": [
    "## Missing Values Summary"
   ]
  },
  {
   "cell_type": "code",
   "execution_count": null,
   "metadata": {},
   "outputs": [],
   "source": [
    "# Use a function to calculate missing value stats.\n",
    "df_missing = missing_values_summary(df)"
   ]
  },
  {
   "cell_type": "code",
   "execution_count": null,
   "metadata": {},
   "outputs": [],
   "source": [
    "missing_summary = (\n",
    "    df_missing\n",
    "    .sort_values(by=['num_rows_missing']\n",
    "                 ,ascending=False)\n",
    "                  )"
   ]
  },
  {
   "cell_type": "code",
   "execution_count": null,
   "metadata": {
    "scrolled": false
   },
   "outputs": [],
   "source": [
    "# Visualize the missing data.\n",
    "sns.set_theme(style=\"whitegrid\")\n",
    "plt.figure(figsize=(7, 20))\n",
    "\n",
    "sns.barplot(\n",
    "    \n",
    "    y='attribute',\n",
    "    x='pct_rows_missing',\n",
    "    data=missing_summary,\n",
    "    orient='h',\n",
    "    color='Royalblue',\n",
    ")\n",
    "\n",
    "plt.title(\"What's the percentage of missing values in each column?\")\n",
    "plt.xlabel('% of column missing')\n",
    "plt.ylabel('column name')\n",
    "\n",
    "plt.xticks(\n",
    "    \n",
    "    ticks=np.linspace(0, 1, 6),\n",
    "    labels=['0%', '20%', '40%', '60%', '80%', '100%']\n",
    ")\n",
    "\n",
    "plt.xlim(0, 1)\n",
    "plt.show()"
   ]
  },
  {
   "cell_type": "markdown",
   "metadata": {},
   "source": [
    "# Columns with 100% of Values Missing\n",
    "More than half of our columns are missing a data point. Let's drop the columns that are missing between 80 and 100% of their values.\n",
    "\n",
    "<img src=\"imputing_nans.jpg\" width=\"300\" height=\"300\">"
   ]
  },
  {
   "cell_type": "code",
   "execution_count": null,
   "metadata": {},
   "outputs": [],
   "source": [
    "# Let's drop the rows with 100% of values missing\n",
    "missing_summary = missing_summary[missing_summary.pct_rows_missing != 1]"
   ]
  },
  {
   "cell_type": "markdown",
   "metadata": {},
   "source": [
    "# Columns with 80-99.99% of Values Missing\n",
    "\n",
    "Before we drop columns with greater than 80% of values let's take a look at their values to see if we can salvageable."
   ]
  },
  {
   "cell_type": "code",
   "execution_count": null,
   "metadata": {},
   "outputs": [],
   "source": [
    "# start with > 90% missing values first\n",
    "missing_summary[missing_summary.pct_rows_missing > .9]"
   ]
  },
  {
   "cell_type": "markdown",
   "metadata": {},
   "source": [
    "## Salvage features\n",
    "\n",
    "- Matching {typeid: typedesc} columns\n",
    "- Pool columns (including `has hot tub or spa`)\n",
    "- Features measured in square feet\n",
    "- Fire place\n",
    "- Tax delinquincy columns\n",
    "\n",
    "\n",
    "### Matching {typeid: typedesc} columns\n",
    "1. `typeconstructiontypeid` : `typeconstructiondesc`\n",
    "2. `storytypeid` : `storydesc`\n",
    "3. `architecturalstyletypeid` : `architecturalstyledesc`"
   ]
  },
  {
   "cell_type": "code",
   "execution_count": null,
   "metadata": {},
   "outputs": [],
   "source": [
    "# drop this column\n",
    "pd.crosstab(df.typeconstructiontypeid,\n",
    "            df.typeconstructiondesc)"
   ]
  },
  {
   "cell_type": "markdown",
   "metadata": {},
   "source": [
    "The story type represents how many levels/floors a property has, whether it has an attic, a basement, ect. 'Basement' is the only value in `storydesc`, let's rename it `has_basement` with values 0/1.<br>Where 0 == no basement, 1 == basement"
   ]
  },
  {
   "cell_type": "code",
   "execution_count": null,
   "metadata": {},
   "outputs": [],
   "source": [
    "# keep these columns\n",
    "pd.crosstab(df.storytypeid,\n",
    "            df.storydesc)"
   ]
  },
  {
   "cell_type": "markdown",
   "metadata": {},
   "source": [
    "Note: If we had an ml algorithm that could utilize google images, we could infer the architectural style for every property. :O or infer the architectural style using clustering! (If we had more values...)"
   ]
  },
  {
   "cell_type": "code",
   "execution_count": null,
   "metadata": {},
   "outputs": [],
   "source": [
    "# drop this column\n",
    "# Not enough values to infer the architectural style of a property.\n",
    "pd.crosstab(df.architecturalstyletypeid,\n",
    "            df.architecturalstyledesc)"
   ]
  },
  {
   "cell_type": "markdown",
   "metadata": {},
   "source": [
    "##### Matching {typeid: typedesc} columns Summary\n",
    "Colums to keep:\n",
    "- `storytypeid` and `storydesc`\n",
    "    - Create a new column called `has_basement` where: 0 == no basement, 1 == basement\n",
    "        - Drop both columns after columns after creating the new column.\n",
    "\n",
    "Columns to drop:\n",
    "- `typeconstructiontypeid`\n",
    "- `typeconstructiondesc`\n",
    "- `architecturalstyletypeid`\n",
    "- `architecturalstyledesc`"
   ]
  },
  {
   "cell_type": "markdown",
   "metadata": {},
   "source": [
    "### Pool columns (including hot tub/spa)\n",
    "\n",
    "The only value in `hashottuborspa` is 1. Let's rename it `has_hottub_or_spa` with values 0/1.<br>\n",
    "Where 0 == no hottub or spa, 1 == hot tub or spa"
   ]
  },
  {
   "cell_type": "code",
   "execution_count": null,
   "metadata": {},
   "outputs": [],
   "source": [
    "# keep this column\n",
    "df.hashottuborspa.value_counts()"
   ]
  },
  {
   "cell_type": "markdown",
   "metadata": {},
   "source": [
    "Each pool column has a unique value of 1, one swimming pool. `poolcnt` has the least amount of missing values. Let's salvage it. Rename `poolcnt` as `has_pool`.\n",
    "<br>Where 0 == no pool, 1 == pool"
   ]
  },
  {
   "cell_type": "code",
   "execution_count": null,
   "metadata": {},
   "outputs": [],
   "source": [
    "# keep this column\n",
    "# The number of pools on a property\n",
    "print(df.poolcnt.value_counts(), end='\\n\\n')\n",
    "\n",
    "# drop these columns\n",
    "# Pool with Spa/Hot Tub\n",
    "print(df.pooltypeid2.value_counts(), end='\\n\\n')\n",
    "\n",
    "# Pool without hot tub\n",
    "print(df.pooltypeid7.value_counts(), end='\\n\\n')\n",
    "\n",
    "# Spa or Hot Tub\n",
    "print(df.pooltypeid10.value_counts(), end='\\n')"
   ]
  },
  {
   "cell_type": "markdown",
   "metadata": {},
   "source": [
    "Of properties that have pools, there are 262 unique pool sizes. Let's rename it as `pool_area`."
   ]
  },
  {
   "cell_type": "code",
   "execution_count": null,
   "metadata": {
    "scrolled": false
   },
   "outputs": [],
   "source": [
    "# Area of all pools on a property in square feet.\n",
    "print(df.poolsizesum.nunique())"
   ]
  },
  {
   "cell_type": "markdown",
   "metadata": {},
   "source": [
    "Let's take a look at the distribution of pool area in square feet."
   ]
  },
  {
   "cell_type": "code",
   "execution_count": null,
   "metadata": {},
   "outputs": [],
   "source": [
    "df[['poolsizesum']].describe().T"
   ]
  },
  {
   "cell_type": "code",
   "execution_count": null,
   "metadata": {},
   "outputs": [],
   "source": [
    "plt.figure(figsize=(13, 7))\n",
    "df.poolsizesum.hist()\n",
    "\n",
    "# The only properties with a pool are located in Ventura county\n",
    "# See the Appendix\n",
    "plt.title('Distribution of Pool Sizes in Ventura County')\n",
    "plt.xlabel('pool size (area in sqft)')\n",
    "plt.ylabel('# of occurances')\n",
    "plt.show()"
   ]
  },
  {
   "cell_type": "code",
   "execution_count": null,
   "metadata": {},
   "outputs": [],
   "source": [
    "pd.cut(df.poolsizesum, 4).value_counts(dropna=False)"
   ]
  },
  {
   "cell_type": "markdown",
   "metadata": {},
   "source": [
    "##### Pool columns (including hot tub/spa) Summary\n",
    "Colums to keep:\n",
    "> Drop these columns once the new ones are created.\n",
    "- `hashottuborspa`\n",
    "    - Create a new column called `has_hot_or_spa` with the values 0/1.<br>Where: 0 == no hottub or spa, 1 == hot tub or spa\n",
    "- `poolcnt`\n",
    "    - Create a new column called `has_pool`.<br>\n",
    "    Where: 0 == no pool, 1 == pool\n",
    "- `poolsizesum`\n",
    "    - Create a new column called `pool_area`. Fill missing values with 0.\n",
    "    - For those with a pool but no reported area, impute the median.\n",
    "\n",
    "Columns to drop:\n",
    "- `pooltypeid2`\n",
    "- `pooltypeid7`\n",
    "- `pooltypeid10`\n",
    "\n",
    "# Features measured in Square Feet"
   ]
  },
  {
   "cell_type": "code",
   "execution_count": null,
   "metadata": {},
   "outputs": [],
   "source": [
    "# duplicate column\n",
    "np.all(df.finishedfloor1squarefeet == df.finishedsquarefeet50)"
   ]
  },
  {
   "cell_type": "code",
   "execution_count": null,
   "metadata": {
    "scrolled": false
   },
   "outputs": [],
   "source": [
    "# Drop column\n",
    "print(df.finishedsquarefeet6.count())"
   ]
  },
  {
   "cell_type": "code",
   "execution_count": null,
   "metadata": {
    "scrolled": false
   },
   "outputs": [],
   "source": [
    "# Patio in yard\n",
    "plt.figure(figsize=(13, 7))\n",
    "df.yardbuildingsqft17.hist()\n",
    "plt.show()"
   ]
  },
  {
   "cell_type": "code",
   "execution_count": null,
   "metadata": {},
   "outputs": [],
   "source": [
    "# Storage shed/building in yard\n",
    "plt.figure(figsize=(13, 7))\n",
    "df.yardbuildingsqft26.hist()\n",
    "plt.show()"
   ]
  },
  {
   "cell_type": "code",
   "execution_count": null,
   "metadata": {},
   "outputs": [],
   "source": [
    "# Basement size in squarefeet\n",
    "plt.figure(figsize=(13, 7))\n",
    "df.basementsqft.hist()\n",
    "plt.show()"
   ]
  },
  {
   "cell_type": "code",
   "execution_count": null,
   "metadata": {},
   "outputs": [],
   "source": [
    "df.storydesc.count() == df.basementsqft.count()"
   ]
  },
  {
   "cell_type": "markdown",
   "metadata": {},
   "source": [
    "# Prepare the data\n",
    "<div class='alert alert-block alert-info'>Will return to salvage more features if time permits.</div>"
   ]
  },
  {
   "cell_type": "markdown",
   "metadata": {},
   "source": [
    "1. storytypeid and storydesc\n",
    "    - Create a new column called `has_basement` where: 0 == no basement, 1 == basement\n",
    "        - Drop both columns after columns after creating the new column.\n",
    "1. hashottuborspa\n",
    "    - Create a new column called `has_hottub_or_spa` with the values 0/1.\n",
    "    Where: 0 == no hottub or spa, 1 == hot tub or spa\n",
    "1. poolcnt\n",
    "    - Create a new column called `has_pool`.\n",
    "    Where: 0 == no pool, 1 == pool\n",
    "1. poolsizesum\n",
    "    - Create a new column called `pool_area`. Fill missing values with 0.\n",
    "    For those with a pool but no reported area, impute the median.\n",
    "\n",
    "## `has_basement`"
   ]
  },
  {
   "cell_type": "code",
   "execution_count": null,
   "metadata": {},
   "outputs": [],
   "source": [
    "df.storydesc.fillna(0, inplace=True)\n",
    "df.storydesc.replace('Basement', 1, inplace=True)"
   ]
  },
  {
   "cell_type": "code",
   "execution_count": null,
   "metadata": {},
   "outputs": [],
   "source": [
    "df.storydesc.value_counts()"
   ]
  },
  {
   "cell_type": "code",
   "execution_count": null,
   "metadata": {},
   "outputs": [],
   "source": [
    "df['has_basement'] = df.storydesc"
   ]
  },
  {
   "cell_type": "code",
   "execution_count": null,
   "metadata": {},
   "outputs": [],
   "source": [
    "df.has_basement.value_counts()"
   ]
  },
  {
   "cell_type": "markdown",
   "metadata": {},
   "source": [
    "## `has_hottub_or_spa`"
   ]
  },
  {
   "cell_type": "code",
   "execution_count": null,
   "metadata": {},
   "outputs": [],
   "source": [
    "df.hashottuborspa.fillna(0, inplace=True)"
   ]
  },
  {
   "cell_type": "code",
   "execution_count": null,
   "metadata": {},
   "outputs": [],
   "source": [
    "df['has_hottub_or_spa'] = df.hashottuborspa"
   ]
  },
  {
   "cell_type": "markdown",
   "metadata": {},
   "source": [
    "## `has_pool` and `pool_area`"
   ]
  },
  {
   "cell_type": "code",
   "execution_count": null,
   "metadata": {},
   "outputs": [],
   "source": [
    "df.poolcnt.fillna(0, inplace=True)\n",
    "df['has_pool'] = df.poolcnt"
   ]
  },
  {
   "cell_type": "code",
   "execution_count": null,
   "metadata": {},
   "outputs": [],
   "source": [
    "df.has_pool.value_counts()"
   ]
  },
  {
   "cell_type": "code",
   "execution_count": null,
   "metadata": {},
   "outputs": [],
   "source": [
    "df.poolsizesum.fillna(0, inplace=True)\n",
    "df['pool_area_sqft'] = df.poolsizesum"
   ]
  },
  {
   "cell_type": "code",
   "execution_count": null,
   "metadata": {
    "scrolled": false
   },
   "outputs": [],
   "source": [
    "df.pool_area_sqft.value_counts().head()"
   ]
  },
  {
   "cell_type": "markdown",
   "metadata": {},
   "source": [
    "## `has_patio` and `patio_area_sqft`"
   ]
  },
  {
   "cell_type": "code",
   "execution_count": null,
   "metadata": {},
   "outputs": [],
   "source": [
    "df['has_patio'] = df.yardbuildingsqft17.notnull().astype(np.int)\n",
    "df['patio_area_sqft'] = df.yardbuildingsqft17.fillna(0)"
   ]
  },
  {
   "cell_type": "code",
   "execution_count": null,
   "metadata": {},
   "outputs": [],
   "source": [
    "df.has_patio.value_counts().head()"
   ]
  },
  {
   "cell_type": "markdown",
   "metadata": {},
   "source": [
    "## `has_shed` and `shed_area_sqft`"
   ]
  },
  {
   "cell_type": "code",
   "execution_count": null,
   "metadata": {},
   "outputs": [],
   "source": [
    "df['has_shed'] = df.yardbuildingsqft26.notnull().astype(np.int)\n",
    "df['basement_area_sqft'] = df.yardbuildingsqft26.fillna(0)"
   ]
  },
  {
   "cell_type": "code",
   "execution_count": null,
   "metadata": {},
   "outputs": [],
   "source": [
    "bathroom_median = df.calculatedbathnbr.median()"
   ]
  },
  {
   "cell_type": "markdown",
   "metadata": {},
   "source": [
    "## `num_of_bathrooms` and `num_of_bedrooms`"
   ]
  },
  {
   "cell_type": "code",
   "execution_count": null,
   "metadata": {},
   "outputs": [],
   "source": [
    "df.calculatedbathnbr.fillna(bathroom_median, inplace=True)\n",
    "df.rename(columns={'calculatedbathnbr': 'num_of_restrooms'}, inplace=True)"
   ]
  },
  {
   "cell_type": "code",
   "execution_count": null,
   "metadata": {},
   "outputs": [],
   "source": [
    "df.head()"
   ]
  },
  {
   "cell_type": "code",
   "execution_count": null,
   "metadata": {},
   "outputs": [],
   "source": [
    "df.bedroomcnt.value_counts(dropna=False)"
   ]
  },
  {
   "cell_type": "markdown",
   "metadata": {},
   "source": [
    "## `age_of_property`"
   ]
  },
  {
   "cell_type": "code",
   "execution_count": null,
   "metadata": {},
   "outputs": [],
   "source": [
    "median_year_built = df.yearbuilt.median()\n",
    "current_year = 2017\n",
    "\n",
    "df.yearbuilt.fillna(median_year_built, inplace=True)\n",
    "df.yearbuilt = df.yearbuilt.astype(np.int)\n",
    "\n",
    "df['age_of_property'] = 2017 - df.yearbuilt"
   ]
  },
  {
   "cell_type": "markdown",
   "metadata": {},
   "source": [
    "## `lot_size_sqft`"
   ]
  },
  {
   "cell_type": "code",
   "execution_count": null,
   "metadata": {},
   "outputs": [],
   "source": [
    "median_lot_in_sqft = df.lotsizesquarefeet.median()\n",
    "df['lot_size_sqft'] = df.lotsizesquarefeet.fillna(median_lot_in_sqft)"
   ]
  },
  {
   "cell_type": "code",
   "execution_count": null,
   "metadata": {},
   "outputs": [],
   "source": [
    "# Let's drop the columns\n",
    "features_to_drop = [\n",
    "    'decktypeid',\n",
    "    'buildingclasstypeid',\n",
    "    'buildingqualitytypeid',\n",
    "    'finishedsquarefeet6',\n",
    "    'finishedsquarefeet13',\n",
    "    'finishedsquarefeet15',\n",
    "    'buildingclassdesc',\n",
    "    'pooltypeid2',\n",
    "    'pooltypeid7',\n",
    "    'pooltypeid10',\n",
    "    'regionidcity',\n",
    "    'regionidcounty',\n",
    "    'regionidzip',    \n",
    "    'typeconstructiontypeid',\n",
    "    'typeconstructiondesc',\n",
    "    'architecturalstyletypeid',\n",
    "    'architecturalstyledesc',\n",
    "    'storytypeid',\n",
    "    'storydesc',\n",
    "    'hashottuborspa',\n",
    "    'poolcnt',\n",
    "    'poolsizesum',\n",
    "    'yardbuildingsqft17',\n",
    "    'yardbuildingsqft26',\n",
    "    'taxdelinquencyyear',\n",
    "    'taxdelinquencyflag',\n",
    "    'finishedsquarefeet50',\n",
    "    'finishedfloor1squarefeet',\n",
    "    'censustractandblock',\n",
    "    'rawcensustractandblock',\n",
    "    'propertylandusetypeid',\n",
    "    'id',\n",
    "    'assessmentyear',\n",
    "    'finishedsquarefeet12',\n",
    "    'bathroomcnt',\n",
    "    'fullbathcnt',\n",
    "    'basementsqft',\n",
    "    'threequarterbathnbr',\n",
    "    'lotsizesquarefeet',\n",
    "    'propertylandusedesc',\n",
    "    'propertycountylandusecode',\n",
    "    'regionidcounty'\n",
    "]\n",
    "   "
   ]
  },
  {
   "cell_type": "code",
   "execution_count": null,
   "metadata": {
    "scrolled": false
   },
   "outputs": [],
   "source": [
    "df.drop(columns=features_to_drop, inplace=True)"
   ]
  },
  {
   "cell_type": "code",
   "execution_count": null,
   "metadata": {},
   "outputs": [],
   "source": [
    "df.shape"
   ]
  },
  {
   "cell_type": "code",
   "execution_count": null,
   "metadata": {},
   "outputs": [],
   "source": [
    "df = handle_missing_values(df)"
   ]
  },
  {
   "cell_type": "code",
   "execution_count": null,
   "metadata": {},
   "outputs": [],
   "source": [
    "columns_to_impute = df.isna().sum()[df.isna().sum()>0].index.to_list()"
   ]
  },
  {
   "cell_type": "code",
   "execution_count": null,
   "metadata": {},
   "outputs": [],
   "source": [
    "columns_to_impute"
   ]
  },
  {
   "cell_type": "code",
   "execution_count": null,
   "metadata": {},
   "outputs": [],
   "source": [
    "for column_name in columns_to_impute:\n",
    "    median = df[column_name].median()\n",
    "    df[column_name] = df[column_name].fillna(median)"
   ]
  },
  {
   "cell_type": "code",
   "execution_count": null,
   "metadata": {},
   "outputs": [],
   "source": [
    "df.isna().sum()"
   ]
  },
  {
   "cell_type": "code",
   "execution_count": null,
   "metadata": {},
   "outputs": [],
   "source": [
    "df = prepare_zillow()\n",
    "df.info()"
   ]
  },
  {
   "cell_type": "code",
   "execution_count": null,
   "metadata": {},
   "outputs": [],
   "source": [
    "df.rename(columns={'calculatedfinishedsquarefeet': 'living_room_area_sqft',\n",
    "                     'structuretaxvaluedollarcnt': 'structure_tax',\n",
    "                     'taxvaluedollarcnt': 'taxable_value',\n",
    "                     'landtaxvaluedollarcnt': 'land_tax',\n",
    "                     'taxamount': 'property_tax',\n",
    "                     'lasttransactiondate': 'date_sold',\n",
    "                     'roomcnt' : 'num_of_rooms',\n",
    "                     'yearbuilt': 'year_built'},\n",
    "         inplace=True)"
   ]
  },
  {
   "cell_type": "code",
   "execution_count": null,
   "metadata": {},
   "outputs": [],
   "source": [
    "df.info()"
   ]
  },
  {
   "cell_type": "markdown",
   "metadata": {},
   "source": [
    "# Appendix"
   ]
  },
  {
   "cell_type": "markdown",
   "metadata": {},
   "source": [
    "Use this snippet to load the data dictionary in your local environment once you've cloned the repository\n",
    "```python\n",
    "pd.read_csv('data_dictionary.csv')\n",
    "```"
   ]
  },
  {
   "cell_type": "code",
   "execution_count": null,
   "metadata": {},
   "outputs": [],
   "source": [
    "df_appendix = get_zillow_data()"
   ]
  },
  {
   "cell_type": "code",
   "execution_count": null,
   "metadata": {},
   "outputs": [],
   "source": [
    "# Iteration #2 Figure out what the codes mean, Mason.\n",
    "df_appendix.groupby(by='fips').propertycountylandusecode.value_counts(dropna=False)"
   ]
  },
  {
   "cell_type": "code",
   "execution_count": null,
   "metadata": {
    "scrolled": false
   },
   "outputs": [],
   "source": [
    "# Properties in ventura county are the only properties that have pool area reported!\n",
    "df_appendix.groupby(by='fips').poolsizesum.value_counts(dropna=False).head()"
   ]
  }
 ],
 "metadata": {
  "kernelspec": {
   "display_name": "Python 3",
   "language": "python",
   "name": "python3"
  },
  "language_info": {
   "codemirror_mode": {
    "name": "ipython",
    "version": 3
   },
   "file_extension": ".py",
   "mimetype": "text/x-python",
   "name": "python",
   "nbconvert_exporter": "python",
   "pygments_lexer": "ipython3",
   "version": "3.7.6"
  }
 },
 "nbformat": 4,
 "nbformat_minor": 4
}
