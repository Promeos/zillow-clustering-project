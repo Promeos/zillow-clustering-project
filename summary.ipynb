{
 "cells": [
  {
   "cell_type": "markdown",
   "metadata": {},
   "source": [
    "### Christopher Ortiz\n",
    "10/21/2020<br>\n",
    "Contact me: [Gmail](christopher.logan.ortiz@gmail.com)<br>\n",
    "View my portfolio on [Github](https://github.com/Promeos)\n",
    "\n",
    "## Purpose of the project\n",
    "> Use the 2017 properties and predictions data for [single unit/single family homes](#Definitions)... <strong>include the discoveries you made</strong> and work you have done <strong>related to uncovering the drivers Zillow's Zestimate error</strong>.\n",
    "\n",
    "<img src=\"https://prnewswire2-a.akamaihd.net/p/1893751/sp/189375100/thumbnail/entry_id/1_su9da4fu/def_height/1001/def_width/1911/version/100011/type/2/q/100\"  width=\"300\" height=\"200\">\n",
    "\n",
    "---\n",
    "\n",
    "## Who is Zillow®?\n",
    "\n",
    ">Zillow® offers buying, selling, renting, and financing services for residential real estate.[*](#Appendix)\n",
    ">    - Zillow <strong>buys and sells</strong> properties\n",
    ">\n",
    "><strong>Short answer: They're in the real estate game!</strong>\n",
    "\n",
    "\n",
    "## What's a Zestimate®?\n",
    "\n",
    "> The Zestimate® home valuation model is Zillow’s estimate of a home's market value.[*](#Appendix)<br>\n",
    ">\n",
    "> <strong>The Zestimate incorporates</strong>:\n",
    "> 1. <code style=\"background:lemonchiffon;color:black\">Public data</code>\n",
    "> 1. <code style=\"background:lemonchiffon;color:black\">User-submitted data</code>\n",
    "> 1. <code style=\"background:lemonchiffon;color:black\">Taking into account home facts</code>\n",
    "> 1. Location\n",
    "> 1. Market conditions\n",
    "\n",
    "## What's a logerror?\n",
    "\n",
    "><strong>Zestimate error</strong>\n",
    ">\n",
    "> The Zestimate's accuracy is computed by comparing the final sale price to the Zestimate that was published on or just prior to the sale date.\n",
    ">\n",
    "> $\\large logerror = log(Zestimate) - log(SalesPrice)$[*](#Appendix)\n",
    "\n",
    "\n",
    "## Why is reducing logerror important to Zillow?\n",
    "\n",
    "> Zillow's business model is to provide reliable real estate assets and services!\n",
    ">\n",
    "> Zillow buys/sells assets that have a long shelf life. Purchasing a home is considered a major (life) purchase.\n",
    ">\n",
    "> <strong>Knowing what the market is like and what your inventory is worth at any given time is a strategic advantage - it reduces uncertainty/risk.</strong>\n",
    "\n",
    "---\n",
    "\n",
    "# Driver's of logerror\n",
    "> Part 1. Inside the data<br>\n",
    "> Part 2. Outside the data\n",
    "\n",
    "<br>\n",
    "\n",
    "# Part 1: Inside the data\n",
    "## Acquisition and Preparation\n",
    "\n",
    "\n",
    "\n",
    "```sql\n",
    "    select *\n",
    "    from properties_2017\n",
    "    join(select parcelid,\n",
    "        logerror,\n",
    "        max(transactiondate) as lasttransactiondate\n",
    "        from predictions_2017\n",
    "        group by parcelid, logerror\n",
    "        ) as predictions using(parcelid)\n",
    "    left join `airconditioningtype` using(`airconditioningtypeid`)\n",
    "    left join `architecturalstyletype` using(`architecturalstyletypeid`)\n",
    "    left join `buildingclasstype` using(`buildingclasstypeid`)\n",
    "    left join `heatingorsystemtype` using(`heatingorsystemtypeid`)\n",
    "    left join `propertylandusetype` using(`propertylandusetypeid`)\n",
    "    left join `storytype` using(`storytypeid`)\n",
    "    left join `typeconstructiontype` using(`typeconstructiontypeid`)\n",
    "    where (latitude is not null\n",
    "    and longitude is not null\n",
    "    and propertylandusetypeid = 261)\n",
    "```\n",
    "\n",
    "<br>\n",
    "<br>\n",
    "Drop columns with 100% missing values\n",
    "\n",
    "Create new features<br>\n",
    "* has_basement\n",
    "* has_hottub_or_spa\n",
    "* has_pool\n",
    "* pool_area\n",
    "* has_patio\n",
    "* patio_area_sqft\n",
    "* has_shed\n",
    "* shed_area_sqft\n",
    "* num_of_bathrooms\n",
    "* num_of_bedrooms\n",
    "* lot_size_sqft\n",
    "\n",
    "| Home Features | Description |\n",
    "| :------ | :---------- |\n",
    "| `parcelid` | Unique identifier for parcels (lots) |\n",
    "| `basement_area_sqft` | Finished living area below or partially below ground level |\n",
    "| `num_of_bedrooms` | Number of bedrooms in home |\n",
    "| `num_of_restrooms` | Number of bathrooms in home including fractional bathrooms  |\n",
    "| `living_room_sqft` | Living room square feet | \n",
    "| `lot_size_sqft` | Area of the lot in square feet |\n",
    "| `year_built` | The Year the principal residence was built |\n",
    "| `has_basement` | If the home has a basement |\n",
    "| `basement_area_sqft` | The area of the basement |\n",
    "| `has_hottub_orspa` | Does the home have a hot tub or spa |\n",
    "| `has_pool` | If the home has a pool |\n",
    "| `pool_area_sqft` | Area of pool in square feet |\n",
    "| `has_patio` | If the home has a patio in yard |\n",
    "| `patio_sqft` | Pool without hot tub |\n",
    "| `has_shed` | If the home has a storage shed/building in yard |\n",
    "\n",
    "\n",
    "| Tax Features | Description |\n",
    "| :------ | :---------- |\n",
    "| `property_tax` |The total property tax assessed for that assessment year |\n",
    "| `taxable_value` | The total tax assessed value of the parcel |\n",
    "| `structure_tax` | The assessed value of the built structure on the parcel |\n",
    "| `land_tax` |The assessed value of the land area of the parcel |\n",
    "\n",
    "\n",
    "| Location Features | Description |\n",
    "| :------ | :---------- |\n",
    "| `latitude` | Latitude of the middle of the parcel divided by 10e6 |\n",
    "| `longitude` | Longitude of the middle of the parcel divided by 10e6 |\n",
    "| `fips` | Federal Information Processing Standard code -  see https://en.wikipedia.org/wiki/FIPS_county_code for more details |"
   ]
  },
  {
   "cell_type": "markdown",
   "metadata": {},
   "source": [
    "# Exploratory Data Analysis"
   ]
  },
  {
   "cell_type": "code",
   "execution_count": 2,
   "metadata": {},
   "outputs": [],
   "source": [
    "import pandas as pd\n",
    "import numpy as np\n",
    "\n",
    "import matplotlib.pyplot as plt\n",
    "import seaborn as sns\n",
    "from scipy import stats\n",
    "\n",
    "from prepare import prepare_zillow\n",
    "from wrangle import train_validate_test, impute_values, attributes_target_split, add_scaled_columns\n",
    "\n",
    "from warnings import filterwarnings\n",
    "filterwarnings('ignore')"
   ]
  },
  {
   "cell_type": "code",
   "execution_count": 3,
   "metadata": {},
   "outputs": [],
   "source": [
    "df = prepare_zillow()\n",
    "train, validate, test = train_validate_test(df)\n",
    "train, validate, test = impute_values(train, validate, test)\n",
    "\n",
    "geo_features = ['fips', 'latitude', 'longitude', 'logerror']\n",
    "\n",
    "\n",
    "home_features = ['num_of_bedrooms',\n",
    "                 'num_of_restrooms',\n",
    "                 'living_room_area_sqft',\n",
    "                 'lot_size_sqft',\n",
    "                 'year_built',\n",
    "                 'has_basement',\n",
    "                 'has_hottub_or_spa',\n",
    "                 'has_pool',\n",
    "                 'pool_area_sqft',\n",
    "                 'has_patio',\n",
    "                 'patio_area_sqft',\n",
    "                 'has_shed',\n",
    "                 'basement_area_sqft',\n",
    "                 'logerror']\n",
    "\n",
    "tax_features = ['property_tax',\n",
    "                'structure_tax',\n",
    "                'land_tax',\n",
    "                'taxable_value',\n",
    "                'logerror']\n",
    "\n",
    "distributions = train.copy()\n",
    "\n",
    "# drop the date column for now\n",
    "distributions.drop(columns='date_sold', inplace=True)\n",
    "\n",
    "geo_dists = distributions[geo_features].copy()\n",
    "home_dists = distributions[home_features].copy()\n",
    "tax_dists = distributions[tax_features].copy()"
   ]
  },
  {
   "cell_type": "markdown",
   "metadata": {},
   "source": [
    "## Distributions of each feature and logerror\n",
    "\n",
    "Distributions of Location Features<br>\n",
    "\n",
    "- Properties in Los Angeles County are the most represented.\n",
    "- Largest logerrors occur in Los Angeles."
   ]
  },
  {
   "cell_type": "markdown",
   "metadata": {},
   "source": [
    "Distributions of Home Features\n",
    "- The largest logerrors occur between 2 and 5 bedrooms"
   ]
  },
  {
   "cell_type": "code",
   "execution_count": 4,
   "metadata": {
    "scrolled": false
   },
   "outputs": [
    {
     "data": {
      "image/png": "[encoded data removed]",
      "text/plain": [
       "<Figure size 504x360 with 2 Axes>"
      ]
     },
     "metadata": {
      "needs_background": "light"
     },
     "output_type": "display_data"
    },
    {
     "data": {
      "image/png": "[encoded data removed]",
      "text/plain": [
       "<Figure size 504x360 with 2 Axes>"
      ]
     },
     "metadata": {
      "needs_background": "light"
     },
     "output_type": "display_data"
    },
    {
     "data": {
      "image/png": "[encoded data removed]",
      "text/plain": [
       "<Figure size 504x360 with 2 Axes>"
      ]
     },
     "metadata": {
      "needs_background": "light"
     },
     "output_type": "display_data"
    }
   ],
   "source": [
    "for i in home_dists.columns[:3]:\n",
    "    fig, (ax1, ax2) = plt.subplots(1, 2, figsize=(7,5))\n",
    "    fig.subplots_adjust(left=None, bottom=0.1, right=0.9, top=0.9, wspace=0.9, hspace=0.2)\n",
    "    ax1.hist(home_dists[i], bins=50)\n",
    "    ax2.scatter(home_dists.logerror, home_dists[i])\n",
    "    ax1.title.set_text(f'Distribution of {i}')\n",
    "    ax2.title.set_text(f'Log error and {i}')\n",
    "    ax2.set_xlabel('Log error')\n",
    "    ax2.set_ylabel(f'{i}')\n",
    "    plt.tight_layout()\n",
    "    plt.show()"
   ]
  },
  {
   "cell_type": "markdown",
   "metadata": {},
   "source": [
    "Distributions of Tax Features<br>\n",
    "- Charts are too noisy.\n",
    "\n",
    "## Correlations of each feature and logerror\n",
    "Features that describe the inside of the property are correlated with logerror\n",
    "\n",
    "1. living_room_area_sqft\n",
    "1. num_of_bedrooms\n",
    "1. num_of_restrooms\n",
    "\n",
    "## Cluster Features\n",
    "\n",
    "Cluster 1: A place with a view<br>\n",
    "`longitude_scaled`<br>\n",
    "`latitude_scaled`<br>\n",
    "`structure_tax_scaled`\n",
    "\n",
    "Cluster 2: Extras<br>\n",
    "`has_basement_scaled`<br>\n",
    "`has_hottub_or_spa_scaled`<br>\n",
    "`has_pool_scaled`<br>\n",
    "`has_patio_scaled`<br>\n",
    "`has_shed_scaled`\n",
    "\n",
    "Cluster 3: Inside, outside, and how old<br>\n",
    "`living_room_area_sqft_scaled`<br>\n",
    "`lot_size_sqft_scaled`<br>\n",
    "`year_built_scaled`<br>\n",
    "\n",
    "## Hypothesis Tests\n",
    "\n",
    "1. logerrors are significantly different than the mean logerror of the population in Los Angeles County and Ventura County.\n",
    "\n",
    "2. Properties with more than 5 bedroom and 5 bathrooms have a significantly different mean logerror than properties with less than 5 bedrooms or bathrooms.\n",
    "\n",
    "3. logerrors are dependent on restrooms and bathrooms.\n",
    "\n",
    "4. logerrors are dependent on all three clusters.\n",
    "\n",
    "5. logerrors were not significantly different for homes with reported features and those without (when tested individually).\n",
    "> has_pool and has_patio were almost statistically significant<br>\n",
    "> not enough reported extras"
   ]
  },
  {
   "cell_type": "markdown",
   "metadata": {},
   "source": [
    "# Modeling\n",
    "\n",
    "Linear Regression\n",
    "\n",
    "Hyperparameter: C = .2\n",
    "\n",
    "Features used:<br>\n",
    "`num_of_bedrooms_scaled`<br>\n",
    "`num_of_restrooms_scaled`<br>\n",
    "`living_room_area_sqft_scaled`<br>\n",
    "`longitude_scaled`<br>\n",
    "`cluster_3_4` == Inside, outside, and how old<br>\n",
    "\n",
    "[Selected using SelectKBest]\n",
    "\n",
    "| Model | RMSE |\n",
    "|:---|:---|\n",
    "| Baseline Mean Logerror | 0.179381 |\n",
    "| Baseline Median Logerror | 0.179683 |\n",
    "| Train Logerror | 0.179059 |\n",
    "| Validate Logerror | 0.180943 |\n",
    "| Test Logerror | 0.181490 |\n",
    "\n",
    "|Delta|% change|\n",
    "|:---|:---|\n",
    "| Delta Mean | 1.1762% |\n",
    "| Delta Median | 1.0057% |"
   ]
  },
  {
   "cell_type": "markdown",
   "metadata": {},
   "source": [
    "# Next Steps\n",
    "\n",
    "Tackling Zestimate error from outside the data.\n",
    "\n",
    "## Free option: Google Maps"
   ]
  },
  {
   "cell_type": "markdown",
   "metadata": {},
   "source": [
    "<img src=\"street_view.png\" width=\"1000\" height=\"1000\">\n"
   ]
  },
  {
   "cell_type": "markdown",
   "metadata": {},
   "source": [
    "<img src=\"aerial_view.png\" width=\"500\" height=\"400\">"
   ]
  },
  {
   "cell_type": "markdown",
   "metadata": {},
   "source": [
    "## Not free options\n",
    "- Real Estate Agents\n",
    "    - Agents in the field report any discrete data points (num_of_restrooms)\n",
    "    - Incentivize reporting: A cool, limited edition, Zillow sticker\n",
    "- General Contractors & Property Owners\n",
    "    - Report home improvements to Zillow\n",
    "    - Incentivize reporting: A cool Zillow sticker\n",
    "- Property Owners\n",
    "    - Send a flyer in the mail.\n",
    "    - Incentivize reporting: A cool Zillow sticker"
   ]
  },
  {
   "cell_type": "markdown",
   "metadata": {},
   "source": [
    "---\n",
    "# Appendix\n",
    "\n",
    "*Zillow also provides marketing software, technology solutions, and advertising services.<br>\n",
    "Source: [Yahoo Finance](https://finance.yahoo.com/quote/Z/profile?p=Z)\n",
    "\n",
    "*Zestimate®<br>\n",
    "Source: [Zillow](#https://www.zillow.com/zestimate/)\n",
    "---"
   ]
  },
  {
   "cell_type": "markdown",
   "metadata": {},
   "source": [
    "# Definitions\n",
    "\n",
    "Single Family Home\n",
    "\n",
    ">This definition comes from the [US Census](https://www.census.gov/construction/chars/definitions/) website.\n",
    ">    \n",
    "><strong>Attached and Detached Single-Family Housing Units</strong>\n",
    ">\n",
    "> Single-family structures include fully detached, semi-detached (semi-attached, side-by-side), row houses, duplexes, quadruplexes, and townhouses. In order for attached units to be classified as single-family structures, each unit must:\n",
    ">\n",
    "> - Be separated by a ground-to roof wall,\n",
    "> - Have a separate heating system,\n",
    "> - Have individual meters for public utilities, and\n",
    "> - Have no units located above or below.\n",
    ">\n",
    "> If each unit within the building does not meet the conditions above, the building is considered multifamily.\n",
    "\n",
    "<br>\n",
    "\n",
    ">Another definition from The City of Los Angeles Municipal [codes](https://codelibrary.amlegal.com/codes/los_angeles/latest/lapz/0-0-0-886).\n",
    ">     \n",
    "><strong>DWELLING UNIT</strong>\n",
    ">    \n",
    "> A group of two or more rooms, one of which is a kitchen, designed for occupancy by one family for living and sleeping purposes.  (Amended by Ord. No. 107,884, Eff. 9/23/56.)    \n",
    ">    \n",
    "><strong>FAMILY</strong>\n",
    ">\n",
    "> One or more persons living together in a dwelling unit, with common access to, and common use of all living, kitchen, and eating areas within the dwelling unit.  (Amended by Ord. No. 177,325, Eff. 3/18/06.)\n",
    "\n",
    "<br>    \n",
    "    "
   ]
  }
 ],
 "metadata": {
  "kernelspec": {
   "display_name": "Python 3",
   "language": "python",
   "name": "python3"
  },
  "language_info": {
   "codemirror_mode": {
    "name": "ipython",
    "version": 3
   },
   "file_extension": ".py",
   "mimetype": "text/x-python",
   "name": "python",
   "nbconvert_exporter": "python",
   "pygments_lexer": "ipython3",
   "version": "3.7.6"
  }
 },
 "nbformat": 4,
 "nbformat_minor": 4
}
