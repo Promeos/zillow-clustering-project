{
 "cells": [
  {
   "cell_type": "markdown",
   "metadata": {},
   "source": [
    "### Christopher Ortiz\n",
    "10/21/2020<br>\n",
    "Contact me: [Gmail](christopher.logan.ortiz@gmail.com)<br>\n",
    "View my portfolio on [Github](https://github.com/Promeos)\n",
    "\n",
    "\n",
    "\n",
    "<img src=\"https://prnewswire2-a.akamaihd.net/p/1893751/sp/189375100/thumbnail/entry_id/1_su9da4fu/def_height/1001/def_width/1911/version/100011/type/2/q/100\"  width=\"300\" height=\"200\">\n",
    "\n",
    "# Executive Summary\n",
    "\n",
    "- Summary outline\n",
    "\n",
    "\n",
    "---\n",
    "## Purpose of the project\n",
    "> Use the 2017 properties and predictions data for [single unit/single family homes](#Definitions)... <strong>include the discoveries you made using KMeans clustering techniques</strong> and work you have done <strong>related to uncovering the drivers Zillow's Zestimate error</strong>.\n",
    "---\n",
    "# Data Acquisition\n",
    "```sql\n",
    "    select *\n",
    "    from properties_2017\n",
    "    join(select parcelid,\n",
    "        logerror,\n",
    "        max(transactiondate) as lasttransactiondate\n",
    "        from predictions_2017\n",
    "        group by parcelid, logerror\n",
    "        ) as predictions using(parcelid)\n",
    "    left join `airconditioningtype` using(`airconditioningtypeid`)\n",
    "    left join `architecturalstyletype` using(`architecturalstyletypeid`)\n",
    "    left join `buildingclasstype` using(`buildingclasstypeid`)\n",
    "    left join `heatingorsystemtype` using(`heatingorsystemtypeid`)\n",
    "    left join `propertylandusetype` using(`propertylandusetypeid`)\n",
    "    left join `storytype` using(`storytypeid`)\n",
    "    left join `typeconstructiontype` using(`typeconstructiontypeid`)\n",
    "    where (latitude is not null\n",
    "    and longitude is not null\n",
    "    and propertylandusetypeid = 261)\n",
    "```\n",
    "<br>\n",
    "\n",
    "# Data Preparation\n",
    "Drop columns with 100% missing values.\n",
    "\n",
    "Create new features<br>\n",
    "* `num_of_bathrooms`\n",
    "* `num_of_bedrooms`\n",
    "\n",
    "\n",
    "* `has_basement`\n",
    "* `has_hottub_or_spa`\n",
    "* `has_pool`\n",
    "* `has_patio`\n",
    "* `has_shed`\n",
    "\n",
    "\n",
    "* `patio_area_sqft`\n",
    "* `shed_area_sqft`\n",
    "* `lot_size_sqft`\n",
    "* `basement_area_sqft`\n",
    "\n",
    "\n",
    "| Location Features | Description |\n",
    "| :------ | :---------- |\n",
    "| `latitude` | Latitude of the middle of the parcel divided by 10e6 |\n",
    "| `longitude` | Longitude of the middle of the parcel divided by 10e6 |\n",
    "| `fips` | Federal Information Processing Standard code -  see https://en.wikipedia.org/wiki/FIPS_county_code for more details |\n",
    "\n",
    "\n",
    "| Home Features | Description |\n",
    "| :------ | :---------- |\n",
    "| `parcelid` | Unique identifier for parcels (lots) |\n",
    "| `basement_area_sqft` | Finished living area below or partially below ground level |\n",
    "| `num_of_bedrooms` | Number of bedrooms in home |\n",
    "| `num_of_restrooms` | Number of bathrooms in home including fractional bathrooms  |\n",
    "| `livable_area_sqft` | Living room square feet | \n",
    "| `lot_size_sqft` | Area of the lot in square feet |\n",
    "| `year_built` | The Year the principal residence was built |\n",
    "| `has_basement` | If the home has a basement |\n",
    "| `basement_area_sqft` | The area of the basement |\n",
    "| `has_hottub_orspa` | Does the home have a hot tub or spa |\n",
    "| `has_pool` | If the home has a pool |\n",
    "| `pool_area_sqft` | Area of pool in square feet |\n",
    "| `has_patio` | If the home has a patio in yard |\n",
    "| `patio_sqft` | Pool without hot tub |\n",
    "| `has_shed` | If the home has a storage shed/building in yard |\n",
    "\n",
    "\n",
    "| Tax Features | Description |\n",
    "| :------ | :---------- |\n",
    "| `property_tax_amount` |The total property tax assessed for that assessment year |\n",
    "| `taxable_value_amount` | The total tax assessed value of the parcel |\n",
    "| `structure_tax_amount` | The assessed value of the built structure on the parcel |\n",
    "| `land_tax_amount` |The assessed value of the land area of the parcel |\n"
   ]
  },
  {
   "cell_type": "markdown",
   "metadata": {},
   "source": [
    "# Exploration"
   ]
  },
  {
   "cell_type": "code",
   "execution_count": 1,
   "metadata": {},
   "outputs": [],
   "source": [
    "# import pandas as pd\n",
    "# import numpy as np\n",
    "\n",
    "# import matplotlib.pyplot as plt\n",
    "# import seaborn as sns\n",
    "# from scipy import stats\n",
    "\n",
    "# from prepare import prepare_zillow\n",
    "# from wrangle import train_validate_test, impute_values, attributes_target_split, add_scaled_columns\n",
    "\n",
    "# from warnings import filterwarnings\n",
    "# filterwarnings('ignore')"
   ]
  },
  {
   "cell_type": "code",
   "execution_count": 1,
   "metadata": {},
   "outputs": [],
   "source": [
    "# clusters"
   ]
  },
  {
   "cell_type": "markdown",
   "metadata": {},
   "source": [
    "## Cluster Features\n",
    "\n",
    "Cluster 1: A place with a view<br>\n",
    "`longitude_scaled`<br>\n",
    "`latitude_scaled`<br>\n",
    "`structure_tax_scaled`"
   ]
  },
  {
   "cell_type": "code",
   "execution_count": 4,
   "metadata": {},
   "outputs": [],
   "source": [
    "# cluster 1 with logerror"
   ]
  },
  {
   "cell_type": "markdown",
   "metadata": {},
   "source": [
    "Cluster 2: Extras<br>\n",
    "`has_basement_scaled`<br>\n",
    "`has_hottub_or_spa_scaled`<br>\n",
    "`has_pool_scaled`<br>\n",
    "`has_patio_scaled`<br>\n",
    "`has_shed_scaled`"
   ]
  },
  {
   "cell_type": "code",
   "execution_count": 5,
   "metadata": {},
   "outputs": [],
   "source": [
    "# cluster 2 with logerror"
   ]
  },
  {
   "cell_type": "markdown",
   "metadata": {},
   "source": [
    "Cluster 3: Inside, outside, and how old<br>\n",
    "`living_room_area_sqft_scaled`<br>\n",
    "`lot_size_sqft_scaled`<br>\n",
    "`year_built_scaled`<br>"
   ]
  },
  {
   "cell_type": "code",
   "execution_count": 6,
   "metadata": {},
   "outputs": [],
   "source": [
    "# cluster 3 with logerror"
   ]
  },
  {
   "cell_type": "markdown",
   "metadata": {},
   "source": [
    "## Hypothesis Tests\n",
    "\n",
    "Cluster 1 Hypothesis test"
   ]
  },
  {
   "cell_type": "code",
   "execution_count": 8,
   "metadata": {},
   "outputs": [],
   "source": [
    "# Hypothesis Tests"
   ]
  },
  {
   "cell_type": "markdown",
   "metadata": {},
   "source": [
    "Cluster 2 Hypothesis test"
   ]
  },
  {
   "cell_type": "code",
   "execution_count": null,
   "metadata": {},
   "outputs": [],
   "source": [
    "# Hypothesis Tests"
   ]
  },
  {
   "cell_type": "markdown",
   "metadata": {},
   "source": [
    "Cluster 3 Hypothesis test"
   ]
  },
  {
   "cell_type": "code",
   "execution_count": null,
   "metadata": {},
   "outputs": [],
   "source": [
    "# Hypothesis Tests"
   ]
  },
  {
   "cell_type": "markdown",
   "metadata": {},
   "source": [
    "# Modeling\n",
    "\n",
    "Linear Regression\n",
    "\n",
    "Hyperparameter: C = .2\n",
    "\n",
    "Features used:<br>\n",
    "`num_of_bedrooms_scaled`<br>\n",
    "`num_of_restrooms_scaled`<br>\n",
    "`living_room_area_sqft_scaled`<br>\n",
    "`longitude_scaled`<br>\n",
    "`cluster_3_4` == Inside, outside, and how old<br>\n",
    "\n",
    "[Selected using SelectKBest]"
   ]
  },
  {
   "cell_type": "code",
   "execution_count": 2,
   "metadata": {},
   "outputs": [],
   "source": [
    "# Linear Regression Model"
   ]
  },
  {
   "cell_type": "markdown",
   "metadata": {},
   "source": [
    "# Next Steps "
   ]
  },
  {
   "cell_type": "markdown",
   "metadata": {},
   "source": [
    "Next steps\n",
    ">1.\n",
    ">\n",
    ">2.\n",
    ">\n",
    ">3."
   ]
  }
 ],
 "metadata": {
  "kernelspec": {
   "display_name": "Python 3",
   "language": "python",
   "name": "python3"
  },
  "language_info": {
   "codemirror_mode": {
    "name": "ipython",
    "version": 3
   },
   "file_extension": ".py",
   "mimetype": "text/x-python",
   "name": "python",
   "nbconvert_exporter": "python",
   "pygments_lexer": "ipython3",
   "version": "3.7.6"
  }
 },
 "nbformat": 4,
 "nbformat_minor": 4
}
